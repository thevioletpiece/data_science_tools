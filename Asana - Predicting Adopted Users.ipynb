{
 "cells": [
  {
   "cell_type": "markdown",
   "metadata": {},
   "source": [
    "# Setup"
   ]
  },
  {
   "cell_type": "code",
   "execution_count": 2,
   "metadata": {
    "collapsed": false
   },
   "outputs": [
    {
     "name": "stderr",
     "output_type": "stream",
     "text": [
      "/Users/michaeltwardos/anaconda/lib/python2.7/site-packages/matplotlib/font_manager.py:273: UserWarning: Matplotlib is building the font cache using fc-list. This may take a moment.\n",
      "  warnings.warn('Matplotlib is building the font cache using fc-list. This may take a moment.')\n",
      "/Users/michaeltwardos/anaconda/lib/python2.7/site-packages/matplotlib/__init__.py:872: UserWarning: axes.color_cycle is deprecated and replaced with axes.prop_cycle; please use the latter.\n",
      "  warnings.warn(self.msg_depr % (key, alt_key))\n"
     ]
    }
   ],
   "source": [
    "#import libraries and set up matplotlib\n",
    "import pandas as pd\n",
    "import os\n",
    "import math\n",
    "%matplotlib inline\n",
    "import matplotlib.pyplot as plt\n",
    "import seaborn as sns\n",
    "sns.set(font_scale=1.5)\n",
    "plt.rcParams['figure.figsize']=(6,4)\n",
    "plt.rcParams['font.size']=14"
   ]
  },
  {
   "cell_type": "code",
   "execution_count": 4,
   "metadata": {
    "collapsed": false
   },
   "outputs": [
    {
     "data": {
      "text/html": [
       "<div>\n",
       "<table border=\"1\" class=\"dataframe\">\n",
       "  <thead>\n",
       "    <tr style=\"text-align: right;\">\n",
       "      <th></th>\n",
       "      <th>user_id</th>\n",
       "      <th>mailing_list</th>\n",
       "      <th>drip</th>\n",
       "      <th>creation_source</th>\n",
       "      <th>invited</th>\n",
       "      <th>first_seven</th>\n",
       "      <th>any_seven</th>\n",
       "    </tr>\n",
       "  </thead>\n",
       "  <tbody>\n",
       "    <tr>\n",
       "      <th>0</th>\n",
       "      <td>1</td>\n",
       "      <td>1</td>\n",
       "      <td>0</td>\n",
       "      <td>GUEST_INVITE</td>\n",
       "      <td>1</td>\n",
       "      <td>0</td>\n",
       "      <td>0</td>\n",
       "    </tr>\n",
       "    <tr>\n",
       "      <th>1</th>\n",
       "      <td>2</td>\n",
       "      <td>0</td>\n",
       "      <td>0</td>\n",
       "      <td>ORG_INVITE</td>\n",
       "      <td>1</td>\n",
       "      <td>0</td>\n",
       "      <td>1</td>\n",
       "    </tr>\n",
       "    <tr>\n",
       "      <th>2</th>\n",
       "      <td>3</td>\n",
       "      <td>0</td>\n",
       "      <td>0</td>\n",
       "      <td>ORG_INVITE</td>\n",
       "      <td>1</td>\n",
       "      <td>0</td>\n",
       "      <td>0</td>\n",
       "    </tr>\n",
       "    <tr>\n",
       "      <th>3</th>\n",
       "      <td>4</td>\n",
       "      <td>0</td>\n",
       "      <td>0</td>\n",
       "      <td>GUEST_INVITE</td>\n",
       "      <td>1</td>\n",
       "      <td>0</td>\n",
       "      <td>0</td>\n",
       "    </tr>\n",
       "    <tr>\n",
       "      <th>4</th>\n",
       "      <td>5</td>\n",
       "      <td>0</td>\n",
       "      <td>0</td>\n",
       "      <td>GUEST_INVITE</td>\n",
       "      <td>1</td>\n",
       "      <td>0</td>\n",
       "      <td>0</td>\n",
       "    </tr>\n",
       "  </tbody>\n",
       "</table>\n",
       "</div>"
      ],
      "text/plain": [
       "   user_id  mailing_list  drip creation_source  invited  first_seven  \\\n",
       "0        1             1     0    GUEST_INVITE        1            0   \n",
       "1        2             0     0      ORG_INVITE        1            0   \n",
       "2        3             0     0      ORG_INVITE        1            0   \n",
       "3        4             0     0    GUEST_INVITE        1            0   \n",
       "4        5             0     0    GUEST_INVITE        1            0   \n",
       "\n",
       "   any_seven  \n",
       "0          0  \n",
       "1          1  \n",
       "2          0  \n",
       "3          0  \n",
       "4          0  "
      ]
     },
     "execution_count": 4,
     "metadata": {},
     "output_type": "execute_result"
    }
   ],
   "source": [
    "#get data\n",
    "os.chdir('/Users/michaeltwardos/Desktop/Asana/') #PLEASE SET THIS WORKING DIRECTORY TO YOURS\n",
    "data = pd.read_csv('asana_users.csv')\n",
    "data.head()"
   ]
  },
  {
   "cell_type": "code",
   "execution_count": 5,
   "metadata": {
    "collapsed": false
   },
   "outputs": [
    {
     "data": {
      "text/html": [
       "<div>\n",
       "<table border=\"1\" class=\"dataframe\">\n",
       "  <thead>\n",
       "    <tr style=\"text-align: right;\">\n",
       "      <th></th>\n",
       "      <th>user_id</th>\n",
       "      <th>mailing_list</th>\n",
       "      <th>drip</th>\n",
       "      <th>invited</th>\n",
       "      <th>first_seven</th>\n",
       "      <th>any_seven</th>\n",
       "      <th>GUEST_INVITE</th>\n",
       "      <th>ORG_INVITE</th>\n",
       "      <th>PERSONAL_PROJECTS</th>\n",
       "      <th>SIGNUP</th>\n",
       "      <th>SIGNUP_GOOGLE_AUTH</th>\n",
       "    </tr>\n",
       "  </thead>\n",
       "  <tbody>\n",
       "    <tr>\n",
       "      <th>0</th>\n",
       "      <td>1</td>\n",
       "      <td>1</td>\n",
       "      <td>0</td>\n",
       "      <td>1</td>\n",
       "      <td>0</td>\n",
       "      <td>0</td>\n",
       "      <td>1</td>\n",
       "      <td>0</td>\n",
       "      <td>0</td>\n",
       "      <td>0</td>\n",
       "      <td>0</td>\n",
       "    </tr>\n",
       "    <tr>\n",
       "      <th>1</th>\n",
       "      <td>2</td>\n",
       "      <td>0</td>\n",
       "      <td>0</td>\n",
       "      <td>1</td>\n",
       "      <td>0</td>\n",
       "      <td>1</td>\n",
       "      <td>0</td>\n",
       "      <td>1</td>\n",
       "      <td>0</td>\n",
       "      <td>0</td>\n",
       "      <td>0</td>\n",
       "    </tr>\n",
       "    <tr>\n",
       "      <th>2</th>\n",
       "      <td>3</td>\n",
       "      <td>0</td>\n",
       "      <td>0</td>\n",
       "      <td>1</td>\n",
       "      <td>0</td>\n",
       "      <td>0</td>\n",
       "      <td>0</td>\n",
       "      <td>1</td>\n",
       "      <td>0</td>\n",
       "      <td>0</td>\n",
       "      <td>0</td>\n",
       "    </tr>\n",
       "    <tr>\n",
       "      <th>3</th>\n",
       "      <td>4</td>\n",
       "      <td>0</td>\n",
       "      <td>0</td>\n",
       "      <td>1</td>\n",
       "      <td>0</td>\n",
       "      <td>0</td>\n",
       "      <td>1</td>\n",
       "      <td>0</td>\n",
       "      <td>0</td>\n",
       "      <td>0</td>\n",
       "      <td>0</td>\n",
       "    </tr>\n",
       "    <tr>\n",
       "      <th>4</th>\n",
       "      <td>5</td>\n",
       "      <td>0</td>\n",
       "      <td>0</td>\n",
       "      <td>1</td>\n",
       "      <td>0</td>\n",
       "      <td>0</td>\n",
       "      <td>1</td>\n",
       "      <td>0</td>\n",
       "      <td>0</td>\n",
       "      <td>0</td>\n",
       "      <td>0</td>\n",
       "    </tr>\n",
       "  </tbody>\n",
       "</table>\n",
       "</div>"
      ],
      "text/plain": [
       "   user_id  mailing_list  drip  invited  first_seven  any_seven  GUEST_INVITE  \\\n",
       "0        1             1     0        1            0          0             1   \n",
       "1        2             0     0        1            0          1             0   \n",
       "2        3             0     0        1            0          0             0   \n",
       "3        4             0     0        1            0          0             1   \n",
       "4        5             0     0        1            0          0             1   \n",
       "\n",
       "   ORG_INVITE  PERSONAL_PROJECTS  SIGNUP  SIGNUP_GOOGLE_AUTH  \n",
       "0           0                  0       0                   0  \n",
       "1           1                  0       0                   0  \n",
       "2           1                  0       0                   0  \n",
       "3           0                  0       0                   0  \n",
       "4           0                  0       0                   0  "
      ]
     },
     "execution_count": 5,
     "metadata": {},
     "output_type": "execute_result"
    }
   ],
   "source": [
    "# turn creation source categorical variable into indicator variables\n",
    "creation_source = pd.get_dummies(data['creation_source'])\n",
    "data = pd.concat([data, creation_source], axis=1)    \n",
    "del data['creation_source']\n",
    "data.head()"
   ]
  },
  {
   "cell_type": "code",
   "execution_count": 12,
   "metadata": {
    "collapsed": false
   },
   "outputs": [
    {
     "data": {
      "text/plain": [
       "user_id              -0.003357\n",
       "mailing_list         -0.007432\n",
       "drip                 -0.007518\n",
       "invited              -0.495336\n",
       "first_seven          -0.016152\n",
       "any_seven            -0.075817\n",
       "GUEST_INVITE         -0.216653\n",
       "ORG_INVITE           -0.342395\n",
       "PERSONAL_PROJECTS     1.000000\n",
       "SIGNUP               -0.211995\n",
       "SIGNUP_GOOGLE_AUTH   -0.166891\n",
       "Name: PERSONAL_PROJECTS, dtype: float64"
      ]
     },
     "execution_count": 12,
     "metadata": {},
     "output_type": "execute_result"
    }
   ],
   "source": [
    "# PERSONAL_PROJECTS creation_source has the largest magnitude correlation with an adopted user but it is negative.  \n",
    "# GUEST_INVITE followed by invited has the highest correlation that is positive.\n",
    "data.corr()['PERSONAL_PROJECTS']"
   ]
  },
  {
   "cell_type": "code",
   "execution_count": null,
   "metadata": {
    "collapsed": true
   },
   "outputs": [],
   "source": [
    "# Set up parameters for models that we may build\n",
    "feature_cols = ['mailing_list', 'drip', 'invited', 'GUEST_INVITE', 'ORG_INVITE', 'PERSONAL_PROJECTS', 'SIGNUP', 'SIGNUP_GOOGLE_AUTH']\n",
    "X=data[feature_cols]\n",
    "y=data.any_seven"
   ]
  },
  {
   "cell_type": "markdown",
   "metadata": {},
   "source": [
    "# Decision Trees"
   ]
  },
  {
   "cell_type": "code",
   "execution_count": 30,
   "metadata": {
    "collapsed": false
   },
   "outputs": [],
   "source": [
    "from sklearn.tree import DecisionTreeClassifier\n",
    "tree=DecisionTreeClassifier(random_state=1)"
   ]
  },
  {
   "cell_type": "code",
   "execution_count": 31,
   "metadata": {
    "collapsed": false
   },
   "outputs": [
    {
     "data": {
      "text/plain": [
       "DecisionTreeClassifier(class_weight=None, criterion='gini', max_depth=None,\n",
       "            max_features=None, max_leaf_nodes=None, min_samples_leaf=1,\n",
       "            min_samples_split=2, min_weight_fraction_leaf=0.0,\n",
       "            presort=False, random_state=1, splitter='best')"
      ]
     },
     "execution_count": 31,
     "metadata": {},
     "output_type": "execute_result"
    }
   ],
   "source": [
    "# Train model\n",
    "tree.fit(X, y)"
   ]
  },
  {
   "cell_type": "code",
   "execution_count": 32,
   "metadata": {
    "collapsed": false
   },
   "outputs": [
    {
     "name": "stdout",
     "output_type": "stream",
     "text": [
      "mailing_list 0.02\n",
      "drip 0.05\n",
      "invited 0.0\n",
      "GUEST_INVITE 0.0\n",
      "ORG_INVITE 0.15\n",
      "PERSONAL_PROJECTS 0.69\n",
      "SIGNUP 0.08\n",
      "SIGNUP_GOOGLE_AUTH 0.01\n"
     ]
    }
   ],
   "source": [
    "# It looks like having 'PERSONAL PROJECTS' as your creation source would be the first branch in the tree.\n",
    "# Overall results are similar to measuring strict correlation\n",
    "\n",
    "important = tree.feature_importances_\n",
    "for i in range(len(feature_cols)):\n",
    "    print feature_cols[i], round(important[i], 2)\n"
   ]
  },
  {
   "cell_type": "code",
   "execution_count": 18,
   "metadata": {
    "collapsed": false
   },
   "outputs": [
    {
     "data": {
      "text/plain": [
       "<matplotlib.axes._subplots.AxesSubplot at 0x108fc2b50>"
      ]
     },
     "execution_count": 18,
     "metadata": {},
     "output_type": "execute_result"
    },
    {
     "data": {
      "image/png": "[encoded data removed]",
      "text/plain": [
       "<matplotlib.figure.Figure at 0x1099b7f90>"
      ]
     },
     "metadata": {},
     "output_type": "display_data"
    }
   ],
   "source": [
    "# Any user who has a PERSONAL_PROJECTS creation source is not likely to be an adopted user.\n",
    "data.groupby(['PERSONAL_PROJECTS', 'any_seven'])['any_seven'].count().\\\n",
    " unstack('any_seven').plot(kind='bar', stacked=True)"
   ]
  },
  {
   "cell_type": "code",
   "execution_count": 26,
   "metadata": {
    "collapsed": false
   },
   "outputs": [],
   "source": [
    "#Some code to compute change in entropy from using a feature\n",
    "\n",
    "#Computes fraction of the list that has the val.\n",
    "def prob(lst, val):\n",
    "    L = len(lst)\n",
    "    if L > 0:\n",
    "        p = round(float(len(lst[lst==val]))/L, 3)\n",
    "    else:\n",
    "        p = 0\n",
    "    return p\n",
    "\n",
    "#Determines the Entropy Contribution from a given probability\n",
    "def entropyContribution(p):\n",
    "    if p != 0:\n",
    "        return round(-p*math.log(p, 2), 3)\n",
    "    else:\n",
    "        return 0\n",
    "    \n",
    "#Computes the entropy given a binary probability - 1 or 0\n",
    "def binaryEntropy(p):\n",
    "    S = entropyContribution(p) + entropyContribution(1-p)\n",
    "    return S"
   ]
  },
  {
   "cell_type": "code",
   "execution_count": 27,
   "metadata": {
    "collapsed": true
   },
   "outputs": [],
   "source": [
    "def computeEntropyChange(item):\n",
    "    initialEntropy = binaryEntropy(prob(data.any_seven, 1))\n",
    "    finalEntropy =  prob(data[item], 1)*binaryEntropy(prob(data[data[item]==1].any_seven, 1)) + \\\n",
    "      prob(data[item], 0)*binaryEntropy(prob(data[data[item]==0].any_seven, 1))\n",
    "    print item, initialEntropy-finalEntropy\n"
   ]
  },
  {
   "cell_type": "code",
   "execution_count": 29,
   "metadata": {
    "collapsed": false
   },
   "outputs": [
    {
     "name": "stdout",
     "output_type": "stream",
     "text": [
      "mailing_list 0.002579\n",
      "drip 0.00151\n",
      "invited 0.00318\n",
      "GUEST_INVITE 0.00382\n",
      "ORG_INVITE 0.003173\n",
      "PERSONAL_PROJECTS 0.007552\n",
      "SIGNUP 0.002346\n",
      "SIGNUP_GOOGLE_AUTH 0.00273\n"
     ]
    }
   ],
   "source": [
    "for item in feature_cols:\n",
    "    computeEntropyChange(item)"
   ]
  },
  {
   "cell_type": "markdown",
   "metadata": {},
   "source": [
    "# Logistic Regression Comparison"
   ]
  },
  {
   "cell_type": "code",
   "execution_count": 39,
   "metadata": {
    "collapsed": true
   },
   "outputs": [],
   "source": [
    "from sklearn.linear_model import LogisticRegression"
   ]
  },
  {
   "cell_type": "code",
   "execution_count": 42,
   "metadata": {
    "collapsed": false
   },
   "outputs": [
    {
     "data": {
      "text/plain": [
       "LogisticRegression(C=1000000000.0, class_weight=None, dual=False,\n",
       "          fit_intercept=True, intercept_scaling=1, max_iter=100,\n",
       "          multi_class='ovr', n_jobs=1, penalty='l2', random_state=None,\n",
       "          solver='liblinear', tol=0.0001, verbose=0, warm_start=False)"
      ]
     },
     "execution_count": 42,
     "metadata": {},
     "output_type": "execute_result"
    }
   ],
   "source": [
    "logreg = LogisticRegression(C=1e9)\n",
    "logreg.fit(X, y)"
   ]
  },
  {
   "cell_type": "code",
   "execution_count": 47,
   "metadata": {
    "collapsed": false
   },
   "outputs": [
    {
     "name": "stdout",
     "output_type": "stream",
     "text": [
      "mailing_list 0.051\n",
      "drip 0.005\n",
      "invited -0.164\n",
      "GUEST_INVITE 0.063\n",
      "ORG_INVITE -0.227\n",
      "PERSONAL_PROJECTS -0.964\n",
      "SIGNUP -0.302\n",
      "SIGNUP_GOOGLE_AUTH -0.093\n"
     ]
    }
   ],
   "source": [
    "for item in range(len(feature_cols)):\n",
    "    print feature_cols[item], round(logreg.coef_[0][item] ,3)\n"
   ]
  },
  {
   "cell_type": "code",
   "execution_count": 48,
   "metadata": {
    "collapsed": false
   },
   "outputs": [
    {
     "name": "stdout",
     "output_type": "stream",
     "text": [
      "Decision Tree :  0.1335\n",
      "Logistic Regression :  0.1335\n"
     ]
    }
   ],
   "source": [
    "# Interesting that models have the same mean squared error \n",
    "from sklearn import metrics\n",
    "\n",
    "print \"Decision Tree : \" , metrics.mean_squared_error(y, tree.predict(X))\n",
    "print \"Logistic Regression : \" , metrics.mean_squared_error(y, logreg.predict(X))"
   ]
  },
  {
   "cell_type": "code",
   "execution_count": null,
   "metadata": {
    "collapsed": true
   },
   "outputs": [],
   "source": []
  }
 ],
 "metadata": {
  "kernelspec": {
   "display_name": "Python 2",
   "language": "python",
   "name": "python2"
  },
  "language_info": {
   "codemirror_mode": {
    "name": "ipython",
    "version": 2
   },
   "file_extension": ".py",
   "mimetype": "text/x-python",
   "name": "python",
   "nbconvert_exporter": "python",
   "pygments_lexer": "ipython2",
   "version": "2.7.11"
  }
 },
 "nbformat": 4,
 "nbformat_minor": 0
}
