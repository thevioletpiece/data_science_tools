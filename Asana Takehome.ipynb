{
 "cells": [
  {
   "cell_type": "code",
   "execution_count": 24,
   "metadata": {
    "collapsed": false
   },
   "outputs": [
    {
     "data": {
      "text/html": [
       "<div>\n",
       "<table border=\"1\" class=\"dataframe\">\n",
       "  <thead>\n",
       "    <tr style=\"text-align: right;\">\n",
       "      <th></th>\n",
       "      <th>user_id</th>\n",
       "      <th>mailing_list</th>\n",
       "      <th>drip</th>\n",
       "      <th>invited</th>\n",
       "      <th>guest_invite</th>\n",
       "      <th>personal_projects</th>\n",
       "      <th>first_seven</th>\n",
       "      <th>any_seven</th>\n",
       "    </tr>\n",
       "  </thead>\n",
       "  <tbody>\n",
       "    <tr>\n",
       "      <th>0</th>\n",
       "      <td>1</td>\n",
       "      <td>1</td>\n",
       "      <td>0</td>\n",
       "      <td>1</td>\n",
       "      <td>1</td>\n",
       "      <td>0</td>\n",
       "      <td>0</td>\n",
       "      <td>0</td>\n",
       "    </tr>\n",
       "    <tr>\n",
       "      <th>1</th>\n",
       "      <td>2</td>\n",
       "      <td>0</td>\n",
       "      <td>0</td>\n",
       "      <td>1</td>\n",
       "      <td>0</td>\n",
       "      <td>0</td>\n",
       "      <td>0</td>\n",
       "      <td>1</td>\n",
       "    </tr>\n",
       "    <tr>\n",
       "      <th>2</th>\n",
       "      <td>3</td>\n",
       "      <td>0</td>\n",
       "      <td>0</td>\n",
       "      <td>1</td>\n",
       "      <td>0</td>\n",
       "      <td>0</td>\n",
       "      <td>0</td>\n",
       "      <td>0</td>\n",
       "    </tr>\n",
       "    <tr>\n",
       "      <th>3</th>\n",
       "      <td>4</td>\n",
       "      <td>0</td>\n",
       "      <td>0</td>\n",
       "      <td>1</td>\n",
       "      <td>1</td>\n",
       "      <td>0</td>\n",
       "      <td>0</td>\n",
       "      <td>0</td>\n",
       "    </tr>\n",
       "    <tr>\n",
       "      <th>4</th>\n",
       "      <td>5</td>\n",
       "      <td>0</td>\n",
       "      <td>0</td>\n",
       "      <td>1</td>\n",
       "      <td>1</td>\n",
       "      <td>0</td>\n",
       "      <td>0</td>\n",
       "      <td>0</td>\n",
       "    </tr>\n",
       "  </tbody>\n",
       "</table>\n",
       "</div>"
      ],
      "text/plain": [
       "   user_id  mailing_list  drip  invited  guest_invite  personal_projects  \\\n",
       "0        1             1     0        1             1                  0   \n",
       "1        2             0     0        1             0                  0   \n",
       "2        3             0     0        1             0                  0   \n",
       "3        4             0     0        1             1                  0   \n",
       "4        5             0     0        1             1                  0   \n",
       "\n",
       "   first_seven  any_seven  \n",
       "0            0          0  \n",
       "1            0          1  \n",
       "2            0          0  \n",
       "3            0          0  \n",
       "4            0          0  "
      ]
     },
     "execution_count": 24,
     "metadata": {},
     "output_type": "execute_result"
    }
   ],
   "source": [
    "import pandas as pd\n",
    "import os\n",
    "import math\n",
    "%matplotlib inline\n",
    "import matplotlib.pyplot as plt\n",
    "plt.rcParams['figure.figsize']=(6,4)\n",
    "plt.rcParams['font.size']=14\n",
    "os.chdir('/Users/michaeltwardos/Desktop/') #PLEASE SET THIS WORKING DIRECTORY TO YOURS\n",
    "data = pd.read_csv('Asana Users.csv')\n",
    "data.head()"
   ]
  },
  {
   "cell_type": "code",
   "execution_count": 4,
   "metadata": {
    "collapsed": false
   },
   "outputs": [
    {
     "data": {
      "text/plain": [
       "1    0\n",
       "2    0\n",
       "3    0\n",
       "4    0\n",
       "Name: mailing_list, dtype: int64"
      ]
     },
     "execution_count": 4,
     "metadata": {},
     "output_type": "execute_result"
    }
   ],
   "source": [
    "import seaborn as sns\n",
    "import matplotlib.pyplot as plt\n",
    "%matplotlib inline\n",
    "sns.set(font_scale=1.5)"
   ]
  },
  {
   "cell_type": "code",
   "execution_count": 7,
   "metadata": {
    "collapsed": false
   },
   "outputs": [
    {
     "data": {
      "text/plain": [
       "LinearRegression(copy_X=True, fit_intercept=True, n_jobs=1, normalize=False)"
      ]
     },
     "execution_count": 7,
     "metadata": {},
     "output_type": "execute_result"
    }
   ],
   "source": [
    "from sklearn.linear_model import LinearRegression\n",
    "linreg = LinearRegression()\n",
    "feature_cols = ['mailing_list']\n",
    "X = data[feature_cols]\n",
    "y = data.any_seven\n",
    "linreg.fit(X, y)"
   ]
  },
  {
   "cell_type": "code",
   "execution_count": 11,
   "metadata": {
    "collapsed": false
   },
   "outputs": [
    {
     "data": {
      "text/plain": [
       "LinearRegression(copy_X=True, fit_intercept=True, n_jobs=1, normalize=False)"
      ]
     },
     "execution_count": 11,
     "metadata": {},
     "output_type": "execute_result"
    }
   ],
   "source": [
    "linregFirst = LinearRegression()\n",
    "feature_cols = ['mailing_list']\n",
    "X = data[feature_cols]\n",
    "y = data.first_seven\n",
    "linregFirst.fit(X, y)"
   ]
  },
  {
   "cell_type": "code",
   "execution_count": 14,
   "metadata": {
    "collapsed": false
   },
   "outputs": [
    {
     "data": {
      "text/html": [
       "<div>\n",
       "<table border=\"1\" class=\"dataframe\">\n",
       "  <thead>\n",
       "    <tr style=\"text-align: right;\">\n",
       "      <th></th>\n",
       "      <th>user_id</th>\n",
       "      <th>mailing_list</th>\n",
       "      <th>drip</th>\n",
       "      <th>invited</th>\n",
       "      <th>guest_invite</th>\n",
       "      <th>personal_projects</th>\n",
       "      <th>first_seven</th>\n",
       "      <th>any_seven</th>\n",
       "      <th>any_pred</th>\n",
       "      <th>first_pred</th>\n",
       "    </tr>\n",
       "  </thead>\n",
       "  <tbody>\n",
       "    <tr>\n",
       "      <th>0</th>\n",
       "      <td>1</td>\n",
       "      <td>1</td>\n",
       "      <td>0</td>\n",
       "      <td>1</td>\n",
       "      <td>1</td>\n",
       "      <td>0</td>\n",
       "      <td>0</td>\n",
       "      <td>0</td>\n",
       "      <td>0.138277</td>\n",
       "      <td>0.014696</td>\n",
       "    </tr>\n",
       "    <tr>\n",
       "      <th>1</th>\n",
       "      <td>2</td>\n",
       "      <td>0</td>\n",
       "      <td>0</td>\n",
       "      <td>1</td>\n",
       "      <td>0</td>\n",
       "      <td>0</td>\n",
       "      <td>0</td>\n",
       "      <td>1</td>\n",
       "      <td>0.131912</td>\n",
       "      <td>0.010882</td>\n",
       "    </tr>\n",
       "    <tr>\n",
       "      <th>2</th>\n",
       "      <td>3</td>\n",
       "      <td>0</td>\n",
       "      <td>0</td>\n",
       "      <td>1</td>\n",
       "      <td>0</td>\n",
       "      <td>0</td>\n",
       "      <td>0</td>\n",
       "      <td>0</td>\n",
       "      <td>0.131912</td>\n",
       "      <td>0.010882</td>\n",
       "    </tr>\n",
       "    <tr>\n",
       "      <th>3</th>\n",
       "      <td>4</td>\n",
       "      <td>0</td>\n",
       "      <td>0</td>\n",
       "      <td>1</td>\n",
       "      <td>1</td>\n",
       "      <td>0</td>\n",
       "      <td>0</td>\n",
       "      <td>0</td>\n",
       "      <td>0.131912</td>\n",
       "      <td>0.010882</td>\n",
       "    </tr>\n",
       "    <tr>\n",
       "      <th>4</th>\n",
       "      <td>5</td>\n",
       "      <td>0</td>\n",
       "      <td>0</td>\n",
       "      <td>1</td>\n",
       "      <td>1</td>\n",
       "      <td>0</td>\n",
       "      <td>0</td>\n",
       "      <td>0</td>\n",
       "      <td>0.131912</td>\n",
       "      <td>0.010882</td>\n",
       "    </tr>\n",
       "    <tr>\n",
       "      <th>5</th>\n",
       "      <td>6</td>\n",
       "      <td>0</td>\n",
       "      <td>0</td>\n",
       "      <td>1</td>\n",
       "      <td>1</td>\n",
       "      <td>0</td>\n",
       "      <td>0</td>\n",
       "      <td>0</td>\n",
       "      <td>0.131912</td>\n",
       "      <td>0.010882</td>\n",
       "    </tr>\n",
       "    <tr>\n",
       "      <th>6</th>\n",
       "      <td>7</td>\n",
       "      <td>0</td>\n",
       "      <td>1</td>\n",
       "      <td>0</td>\n",
       "      <td>0</td>\n",
       "      <td>0</td>\n",
       "      <td>0</td>\n",
       "      <td>0</td>\n",
       "      <td>0.131912</td>\n",
       "      <td>0.010882</td>\n",
       "    </tr>\n",
       "    <tr>\n",
       "      <th>7</th>\n",
       "      <td>8</td>\n",
       "      <td>1</td>\n",
       "      <td>1</td>\n",
       "      <td>0</td>\n",
       "      <td>0</td>\n",
       "      <td>1</td>\n",
       "      <td>0</td>\n",
       "      <td>0</td>\n",
       "      <td>0.138277</td>\n",
       "      <td>0.014696</td>\n",
       "    </tr>\n",
       "    <tr>\n",
       "      <th>8</th>\n",
       "      <td>9</td>\n",
       "      <td>0</td>\n",
       "      <td>0</td>\n",
       "      <td>0</td>\n",
       "      <td>0</td>\n",
       "      <td>1</td>\n",
       "      <td>0</td>\n",
       "      <td>0</td>\n",
       "      <td>0.131912</td>\n",
       "      <td>0.010882</td>\n",
       "    </tr>\n",
       "    <tr>\n",
       "      <th>9</th>\n",
       "      <td>10</td>\n",
       "      <td>1</td>\n",
       "      <td>1</td>\n",
       "      <td>1</td>\n",
       "      <td>0</td>\n",
       "      <td>0</td>\n",
       "      <td>0</td>\n",
       "      <td>1</td>\n",
       "      <td>0.138277</td>\n",
       "      <td>0.014696</td>\n",
       "    </tr>\n",
       "  </tbody>\n",
       "</table>\n",
       "</div>"
      ],
      "text/plain": [
       "   user_id  mailing_list  drip  invited  guest_invite  personal_projects  \\\n",
       "0        1             1     0        1             1                  0   \n",
       "1        2             0     0        1             0                  0   \n",
       "2        3             0     0        1             0                  0   \n",
       "3        4             0     0        1             1                  0   \n",
       "4        5             0     0        1             1                  0   \n",
       "5        6             0     0        1             1                  0   \n",
       "6        7             0     1        0             0                  0   \n",
       "7        8             1     1        0             0                  1   \n",
       "8        9             0     0        0             0                  1   \n",
       "9       10             1     1        1             0                  0   \n",
       "\n",
       "   first_seven  any_seven  any_pred  first_pred  \n",
       "0            0          0  0.138277    0.014696  \n",
       "1            0          1  0.131912    0.010882  \n",
       "2            0          0  0.131912    0.010882  \n",
       "3            0          0  0.131912    0.010882  \n",
       "4            0          0  0.131912    0.010882  \n",
       "5            0          0  0.131912    0.010882  \n",
       "6            0          0  0.131912    0.010882  \n",
       "7            0          0  0.138277    0.014696  \n",
       "8            0          0  0.131912    0.010882  \n",
       "9            0          1  0.138277    0.014696  "
      ]
     },
     "execution_count": 14,
     "metadata": {},
     "output_type": "execute_result"
    }
   ],
   "source": [
    "data['any_pred'] = linreg.predict(X)\n",
    "data['first_pred'] = linregFirst.predict(X)\n",
    "data.head(10)\n",
    "#How do we get the most predictive inputs from these models?\n",
    "#How do we measure correlation between each column and each signal?"
   ]
  },
  {
   "cell_type": "code",
   "execution_count": 15,
   "metadata": {
    "collapsed": true
   },
   "outputs": [],
   "source": [
    "#Computes fraction of the list that has the val.\n",
    "def prob(lst, val):\n",
    "    L = len(lst)\n",
    "    if L > 0:\n",
    "        p = round(float(len(lst[lst==val]))/L, 3)\n",
    "    else:\n",
    "        p = 0\n",
    "    return p\n",
    "\n",
    "#Determines the Entropy Contribution from a given probability\n",
    "def entropyContribution(p):\n",
    "    if p != 0:\n",
    "        return round(-p*math.log(p, 2), 3)\n",
    "    else:\n",
    "        return 0\n",
    "    \n",
    "#Computes the entropy given a binary probability - 1 or 0\n",
    "def binaryEntropy(p):\n",
    "    S = entropyContribution(p) + entropyContribution(1-p)\n",
    "    return S"
   ]
  },
  {
   "cell_type": "code",
   "execution_count": 16,
   "metadata": {
    "collapsed": false
   },
   "outputs": [
    {
     "data": {
      "text/plain": [
       "0.249"
      ]
     },
     "execution_count": 16,
     "metadata": {},
     "output_type": "execute_result"
    }
   ],
   "source": [
    "prob(data.mailing_list, 1)"
   ]
  },
  {
   "cell_type": "code",
   "execution_count": 21,
   "metadata": {
    "collapsed": false
   },
   "outputs": [
    {
     "data": {
      "text/plain": [
       "[<matplotlib.axes._subplots.AxesSubplot at 0x10be06cd0>,\n",
       " <matplotlib.axes._subplots.AxesSubplot at 0x10bfe52d0>,\n",
       " <matplotlib.axes._subplots.AxesSubplot at 0x10c8ae150>]"
      ]
     },
     "execution_count": 21,
     "metadata": {},
     "output_type": "execute_result"
    },
    {
     "data": {
      "image/png": "[encoded data removed]",
      "text/plain": [
       "<matplotlib.figure.Figure at 0x10abfd4d0>"
      ]
     },
     "metadata": {},
     "output_type": "display_data"
    },
    {
     "data": {
      "image/png": "[encoded data removed]",
      "text/plain": [
       "<matplotlib.figure.Figure at 0x10be06410>"
      ]
     },
     "metadata": {},
     "output_type": "display_data"
    },
    {
     "data": {
      "image/png": "[encoded data removed]",
      "text/plain": [
       "<matplotlib.figure.Figure at 0x10bfc0910>"
      ]
     },
     "metadata": {},
     "output_type": "display_data"
    }
   ],
   "source": [
    "[data.groupby(['mailing_list', 'any_seven'])['any_seven'].count().\\\n",
    " unstack('any_seven').plot(kind='bar', stacked=True),\n",
    " data.groupby(['drip', 'any_seven'])['any_seven'].count().\\\n",
    " unstack('any_seven').plot(kind='bar', stacked=True),\n",
    " data.groupby(['invited', 'any_seven'])['any_seven'].count().\\\n",
    " unstack('any_seven').plot(kind='bar', stacked=True)]"
   ]
  },
  {
   "cell_type": "code",
   "execution_count": 31,
   "metadata": {
    "collapsed": false
   },
   "outputs": [
    {
     "name": "stdout",
     "output_type": "stream",
     "text": [
      "0.569\n"
     ]
    }
   ],
   "source": [
    "print binaryEntropy(prob(data.any_seven, 1))"
   ]
  },
  {
   "cell_type": "code",
   "execution_count": 30,
   "metadata": {
    "collapsed": false
   },
   "outputs": [
    {
     "name": "stdout",
     "output_type": "stream",
     "text": [
      "mailing_list\n",
      "0.566421\n",
      "drip\n",
      "0.56749\n",
      "invited\n",
      "0.56582\n",
      "guest_invite\n",
      "0.56518\n",
      "personal_projects\n",
      "0.561448\n"
     ]
    }
   ],
   "source": [
    "#Compute the Absolute Conditional Entropy from using a\n",
    "print 'mailing_list'\n",
    "print prob(data.mailing_list, 1)*binaryEntropy(prob(data[data.mailing_list==1].any_seven, 1)) + \\\n",
    "      prob(data.mailing_list, 0)*binaryEntropy(prob(data[data.mailing_list==0].any_seven, 1))\n",
    "\n",
    "print 'drip'\n",
    "print prob(data.drip, 1)*binaryEntropy(prob(data[data.drip==1].any_seven, 1)) + \\\n",
    "      prob(data.drip, 0)*binaryEntropy(prob(data[data.drip==0].any_seven, 1))\n",
    "\n",
    "print 'invited'\n",
    "print prob(data.invited, 1)*binaryEntropy(prob(data[data.invited==1].any_seven, 1)) + \\\n",
    "      prob(data.invited, 0)*binaryEntropy(prob(data[data.invited==0].any_seven, 1))\n",
    "\n",
    "print 'guest_invite'\n",
    "print prob(data.guest_invite, 1)*binaryEntropy(prob(data[data.guest_invite==1].any_seven, 1)) + \\\n",
    "      prob(data.guest_invite, 0)*binaryEntropy(prob(data[data.guest_invite==0].any_seven, 1))\n",
    "\n",
    "print 'personal_projects'\n",
    "print prob(data.personal_projects, 1)*binaryEntropy(prob(data[data.personal_projects==1].any_seven, 1)) + \\\n",
    "      prob(data.personal_projects, 0)*binaryEntropy(prob(data[data.personal_projects==0].any_seven, 1))"
   ]
  },
  {
   "cell_type": "code",
   "execution_count": 26,
   "metadata": {
    "collapsed": false
   },
   "outputs": [
    {
     "data": {
      "text/plain": [
       "Index([u'user_id', u'mailing_list', u'drip', u'invited', u'guest_invite',\n",
       "       u'personal_projects', u'first_seven', u'any_seven'],\n",
       "      dtype='object')"
      ]
     },
     "execution_count": 26,
     "metadata": {},
     "output_type": "execute_result"
    }
   ],
   "source": [
    "data.columns"
   ]
  },
  {
   "cell_type": "code",
   "execution_count": null,
   "metadata": {
    "collapsed": true
   },
   "outputs": [],
   "source": []
  }
 ],
 "metadata": {
  "kernelspec": {
   "display_name": "Python 2",
   "language": "python",
   "name": "python2"
  },
  "language_info": {
   "codemirror_mode": {
    "name": "ipython",
    "version": 2
   },
   "file_extension": ".py",
   "mimetype": "text/x-python",
   "name": "python",
   "nbconvert_exporter": "python",
   "pygments_lexer": "ipython2",
   "version": "2.7.11"
  }
 },
 "nbformat": 4,
 "nbformat_minor": 0
}
