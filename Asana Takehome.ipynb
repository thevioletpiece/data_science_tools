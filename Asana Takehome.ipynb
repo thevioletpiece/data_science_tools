{
 "cells": [
  {
   "cell_type": "code",
   "execution_count": 41,
   "metadata": {
    "collapsed": false
   },
   "outputs": [
    {
     "name": "stderr",
     "output_type": "stream",
     "text": [
      "/Users/michaeltwardos/anaconda/lib/python2.7/site-packages/matplotlib/__init__.py:872: UserWarning: axes.color_cycle is deprecated and replaced with axes.prop_cycle; please use the latter.\n",
      "  warnings.warn(self.msg_depr % (key, alt_key))\n"
     ]
    },
    {
     "data": {
      "text/html": [
       "<div>\n",
       "<table border=\"1\" class=\"dataframe\">\n",
       "  <thead>\n",
       "    <tr style=\"text-align: right;\">\n",
       "      <th></th>\n",
       "      <th>user_id</th>\n",
       "      <th>mailing_list</th>\n",
       "      <th>drip</th>\n",
       "      <th>invited</th>\n",
       "      <th>guest_invite</th>\n",
       "      <th>personal_projects</th>\n",
       "      <th>first_seven</th>\n",
       "      <th>any_seven</th>\n",
       "    </tr>\n",
       "  </thead>\n",
       "  <tbody>\n",
       "    <tr>\n",
       "      <th>0</th>\n",
       "      <td>1</td>\n",
       "      <td>1</td>\n",
       "      <td>0</td>\n",
       "      <td>1</td>\n",
       "      <td>1</td>\n",
       "      <td>0</td>\n",
       "      <td>0</td>\n",
       "      <td>0</td>\n",
       "    </tr>\n",
       "    <tr>\n",
       "      <th>1</th>\n",
       "      <td>2</td>\n",
       "      <td>0</td>\n",
       "      <td>0</td>\n",
       "      <td>1</td>\n",
       "      <td>0</td>\n",
       "      <td>0</td>\n",
       "      <td>0</td>\n",
       "      <td>1</td>\n",
       "    </tr>\n",
       "    <tr>\n",
       "      <th>2</th>\n",
       "      <td>3</td>\n",
       "      <td>0</td>\n",
       "      <td>0</td>\n",
       "      <td>1</td>\n",
       "      <td>0</td>\n",
       "      <td>0</td>\n",
       "      <td>0</td>\n",
       "      <td>0</td>\n",
       "    </tr>\n",
       "    <tr>\n",
       "      <th>3</th>\n",
       "      <td>4</td>\n",
       "      <td>0</td>\n",
       "      <td>0</td>\n",
       "      <td>1</td>\n",
       "      <td>1</td>\n",
       "      <td>0</td>\n",
       "      <td>0</td>\n",
       "      <td>0</td>\n",
       "    </tr>\n",
       "    <tr>\n",
       "      <th>4</th>\n",
       "      <td>5</td>\n",
       "      <td>0</td>\n",
       "      <td>0</td>\n",
       "      <td>1</td>\n",
       "      <td>1</td>\n",
       "      <td>0</td>\n",
       "      <td>0</td>\n",
       "      <td>0</td>\n",
       "    </tr>\n",
       "  </tbody>\n",
       "</table>\n",
       "</div>"
      ],
      "text/plain": [
       "   user_id  mailing_list  drip  invited  guest_invite  personal_projects  \\\n",
       "0        1             1     0        1             1                  0   \n",
       "1        2             0     0        1             0                  0   \n",
       "2        3             0     0        1             0                  0   \n",
       "3        4             0     0        1             1                  0   \n",
       "4        5             0     0        1             1                  0   \n",
       "\n",
       "   first_seven  any_seven  \n",
       "0            0          0  \n",
       "1            0          1  \n",
       "2            0          0  \n",
       "3            0          0  \n",
       "4            0          0  "
      ]
     },
     "execution_count": 41,
     "metadata": {},
     "output_type": "execute_result"
    }
   ],
   "source": [
    "import pandas as pd\n",
    "import os\n",
    "import math\n",
    "%matplotlib inline\n",
    "import matplotlib.pyplot as plt\n",
    "import seaborn as sns\n",
    "sns.set(font_scale=1.5)\n",
    "plt.rcParams['figure.figsize']=(6,4)\n",
    "plt.rcParams['font.size']=14\n",
    "os.chdir('/Users/michaeltwardos/Desktop/') #PLEASE SET THIS WORKING DIRECTORY TO YOURS\n",
    "data = pd.read_csv('Asana Users.csv')\n",
    "data.head()"
   ]
  },
  {
   "cell_type": "code",
   "execution_count": null,
   "metadata": {
    "collapsed": false
   },
   "outputs": [],
   "source": []
  },
  {
   "cell_type": "code",
   "execution_count": 42,
   "metadata": {
    "collapsed": false
   },
   "outputs": [],
   "source": [
    "from sklearn.linear_model import LinearRegression"
   ]
  },
  {
   "cell_type": "code",
   "execution_count": 48,
   "metadata": {
    "collapsed": false
   },
   "outputs": [
    {
     "data": {
      "text/plain": [
       "LinearRegression(copy_X=True, fit_intercept=True, n_jobs=1, normalize=False)"
      ]
     },
     "execution_count": 48,
     "metadata": {},
     "output_type": "execute_result"
    }
   ],
   "source": [
    "feature_cols = ['mailing_list', 'drip', 'invited', 'guest_invite', 'personal_projects']\n",
    "linregFirst = LinearRegression()\n",
    "X = data[feature_cols]\n",
    "yF = data.first_seven\n",
    "linregFirst.fit(X, yF)"
   ]
  },
  {
   "cell_type": "code",
   "execution_count": 49,
   "metadata": {
    "collapsed": false
   },
   "outputs": [
    {
     "data": {
      "text/plain": [
       "LinearRegression(copy_X=True, fit_intercept=True, n_jobs=1, normalize=False)"
      ]
     },
     "execution_count": 49,
     "metadata": {},
     "output_type": "execute_result"
    }
   ],
   "source": [
    "linregAny = LinearRegression()\n",
    "X = data[feature_cols]\n",
    "yA = data.any_seven\n",
    "linregAny.fit(X, yA)"
   ]
  },
  {
   "cell_type": "code",
   "execution_count": 50,
   "metadata": {
    "collapsed": false
   },
   "outputs": [
    {
     "data": {
      "text/html": [
       "<div>\n",
       "<table border=\"1\" class=\"dataframe\">\n",
       "  <thead>\n",
       "    <tr style=\"text-align: right;\">\n",
       "      <th></th>\n",
       "      <th>user_id</th>\n",
       "      <th>mailing_list</th>\n",
       "      <th>drip</th>\n",
       "      <th>invited</th>\n",
       "      <th>guest_invite</th>\n",
       "      <th>personal_projects</th>\n",
       "      <th>first_seven</th>\n",
       "      <th>any_seven</th>\n",
       "      <th>any_pred</th>\n",
       "      <th>first_pred</th>\n",
       "    </tr>\n",
       "  </thead>\n",
       "  <tbody>\n",
       "    <tr>\n",
       "      <th>0</th>\n",
       "      <td>1</td>\n",
       "      <td>1</td>\n",
       "      <td>0</td>\n",
       "      <td>1</td>\n",
       "      <td>1</td>\n",
       "      <td>0</td>\n",
       "      <td>0</td>\n",
       "      <td>0</td>\n",
       "      <td>0.170685</td>\n",
       "      <td>0.023340</td>\n",
       "    </tr>\n",
       "    <tr>\n",
       "      <th>1</th>\n",
       "      <td>2</td>\n",
       "      <td>0</td>\n",
       "      <td>0</td>\n",
       "      <td>1</td>\n",
       "      <td>0</td>\n",
       "      <td>0</td>\n",
       "      <td>0</td>\n",
       "      <td>1</td>\n",
       "      <td>0.128436</td>\n",
       "      <td>0.008979</td>\n",
       "    </tr>\n",
       "    <tr>\n",
       "      <th>2</th>\n",
       "      <td>3</td>\n",
       "      <td>0</td>\n",
       "      <td>0</td>\n",
       "      <td>1</td>\n",
       "      <td>0</td>\n",
       "      <td>0</td>\n",
       "      <td>0</td>\n",
       "      <td>0</td>\n",
       "      <td>0.128436</td>\n",
       "      <td>0.008979</td>\n",
       "    </tr>\n",
       "    <tr>\n",
       "      <th>3</th>\n",
       "      <td>4</td>\n",
       "      <td>0</td>\n",
       "      <td>0</td>\n",
       "      <td>1</td>\n",
       "      <td>1</td>\n",
       "      <td>0</td>\n",
       "      <td>0</td>\n",
       "      <td>0</td>\n",
       "      <td>0.164897</td>\n",
       "      <td>0.018995</td>\n",
       "    </tr>\n",
       "    <tr>\n",
       "      <th>4</th>\n",
       "      <td>5</td>\n",
       "      <td>0</td>\n",
       "      <td>0</td>\n",
       "      <td>1</td>\n",
       "      <td>1</td>\n",
       "      <td>0</td>\n",
       "      <td>0</td>\n",
       "      <td>0</td>\n",
       "      <td>0.164897</td>\n",
       "      <td>0.018995</td>\n",
       "    </tr>\n",
       "    <tr>\n",
       "      <th>5</th>\n",
       "      <td>6</td>\n",
       "      <td>0</td>\n",
       "      <td>0</td>\n",
       "      <td>1</td>\n",
       "      <td>1</td>\n",
       "      <td>0</td>\n",
       "      <td>0</td>\n",
       "      <td>0</td>\n",
       "      <td>0.164897</td>\n",
       "      <td>0.018995</td>\n",
       "    </tr>\n",
       "    <tr>\n",
       "      <th>6</th>\n",
       "      <td>7</td>\n",
       "      <td>0</td>\n",
       "      <td>1</td>\n",
       "      <td>0</td>\n",
       "      <td>0</td>\n",
       "      <td>0</td>\n",
       "      <td>0</td>\n",
       "      <td>0</td>\n",
       "      <td>0.150292</td>\n",
       "      <td>0.009279</td>\n",
       "    </tr>\n",
       "    <tr>\n",
       "      <th>7</th>\n",
       "      <td>8</td>\n",
       "      <td>1</td>\n",
       "      <td>1</td>\n",
       "      <td>0</td>\n",
       "      <td>0</td>\n",
       "      <td>1</td>\n",
       "      <td>0</td>\n",
       "      <td>0</td>\n",
       "      <td>0.082598</td>\n",
       "      <td>0.010171</td>\n",
       "    </tr>\n",
       "    <tr>\n",
       "      <th>8</th>\n",
       "      <td>9</td>\n",
       "      <td>0</td>\n",
       "      <td>0</td>\n",
       "      <td>0</td>\n",
       "      <td>0</td>\n",
       "      <td>1</td>\n",
       "      <td>0</td>\n",
       "      <td>0</td>\n",
       "      <td>0.076196</td>\n",
       "      <td>0.007196</td>\n",
       "    </tr>\n",
       "    <tr>\n",
       "      <th>9</th>\n",
       "      <td>10</td>\n",
       "      <td>1</td>\n",
       "      <td>1</td>\n",
       "      <td>1</td>\n",
       "      <td>0</td>\n",
       "      <td>0</td>\n",
       "      <td>0</td>\n",
       "      <td>1</td>\n",
       "      <td>0.134837</td>\n",
       "      <td>0.011955</td>\n",
       "    </tr>\n",
       "  </tbody>\n",
       "</table>\n",
       "</div>"
      ],
      "text/plain": [
       "   user_id  mailing_list  drip  invited  guest_invite  personal_projects  \\\n",
       "0        1             1     0        1             1                  0   \n",
       "1        2             0     0        1             0                  0   \n",
       "2        3             0     0        1             0                  0   \n",
       "3        4             0     0        1             1                  0   \n",
       "4        5             0     0        1             1                  0   \n",
       "5        6             0     0        1             1                  0   \n",
       "6        7             0     1        0             0                  0   \n",
       "7        8             1     1        0             0                  1   \n",
       "8        9             0     0        0             0                  1   \n",
       "9       10             1     1        1             0                  0   \n",
       "\n",
       "   first_seven  any_seven  any_pred  first_pred  \n",
       "0            0          0  0.170685    0.023340  \n",
       "1            0          1  0.128436    0.008979  \n",
       "2            0          0  0.128436    0.008979  \n",
       "3            0          0  0.164897    0.018995  \n",
       "4            0          0  0.164897    0.018995  \n",
       "5            0          0  0.164897    0.018995  \n",
       "6            0          0  0.150292    0.009279  \n",
       "7            0          0  0.082598    0.010171  \n",
       "8            0          0  0.076196    0.007196  \n",
       "9            0          1  0.134837    0.011955  "
      ]
     },
     "execution_count": 50,
     "metadata": {},
     "output_type": "execute_result"
    }
   ],
   "source": [
    "data['any_pred'] = linregAny.predict(X)\n",
    "data['first_pred'] = linregFirst.predict(X)\n",
    "data.head(10)\n",
    "#How do we get the most predictive inputs from these models?\n",
    "#How do we measure correlation between each column and each signal?"
   ]
  },
  {
   "cell_type": "code",
   "execution_count": 51,
   "metadata": {
    "collapsed": true
   },
   "outputs": [],
   "source": [
    "#Computes fraction of the list that has the val.\n",
    "def prob(lst, val):\n",
    "    L = len(lst)\n",
    "    if L > 0:\n",
    "        p = round(float(len(lst[lst==val]))/L, 3)\n",
    "    else:\n",
    "        p = 0\n",
    "    return p\n",
    "\n",
    "#Determines the Entropy Contribution from a given probability\n",
    "def entropyContribution(p):\n",
    "    if p != 0:\n",
    "        return round(-p*math.log(p, 2), 3)\n",
    "    else:\n",
    "        return 0\n",
    "    \n",
    "#Computes the entropy given a binary probability - 1 or 0\n",
    "def binaryEntropy(p):\n",
    "    S = entropyContribution(p) + entropyContribution(1-p)\n",
    "    return S"
   ]
  },
  {
   "cell_type": "code",
   "execution_count": 16,
   "metadata": {
    "collapsed": false
   },
   "outputs": [
    {
     "data": {
      "text/plain": [
       "0.249"
      ]
     },
     "execution_count": 16,
     "metadata": {},
     "output_type": "execute_result"
    }
   ],
   "source": [
    "prob(data.mailing_list, 1)"
   ]
  },
  {
   "cell_type": "code",
   "execution_count": 52,
   "metadata": {
    "collapsed": false
   },
   "outputs": [
    {
     "data": {
      "text/plain": [
       "[<matplotlib.axes._subplots.AxesSubplot at 0x10d8bf2d0>,\n",
       " <matplotlib.axes._subplots.AxesSubplot at 0x10dd22150>,\n",
       " <matplotlib.axes._subplots.AxesSubplot at 0x10ddd8050>,\n",
       " <matplotlib.axes._subplots.AxesSubplot at 0x10de87e50>,\n",
       " <matplotlib.axes._subplots.AxesSubplot at 0x10e8686d0>]"
      ]
     },
     "execution_count": 52,
     "metadata": {},
     "output_type": "execute_result"
    },
    {
     "data": {
      "image/png": "[encoded data removed]",
      "text/plain": [
       "<matplotlib.figure.Figure at 0x10c8813d0>"
      ]
     },
     "metadata": {},
     "output_type": "display_data"
    },
    {
     "data": {
      "image/png": "[encoded data removed]",
      "text/plain": [
       "<matplotlib.figure.Figure at 0x10d89ad10>"
      ]
     },
     "metadata": {},
     "output_type": "display_data"
    },
    {
     "data": {
      "image/png": "[encoded data removed]",
      "text/plain": [
       "<matplotlib.figure.Figure at 0x10dd22d50>"
      ]
     },
     "metadata": {},
     "output_type": "display_data"
    },
    {
     "data": {
      "image/png": "[encoded data removed]",
      "text/plain": [
       "<matplotlib.figure.Figure at 0x10de155d0>"
      ]
     },
     "metadata": {},
     "output_type": "display_data"
    },
    {
     "data": {
      "image/png": "[encoded data removed]",
      "text/plain": [
       "<matplotlib.figure.Figure at 0x10dec7e50>"
      ]
     },
     "metadata": {},
     "output_type": "display_data"
    }
   ],
   "source": [
    "[data.groupby(['mailing_list', 'any_seven'])['any_seven'].count().\\\n",
    " unstack('any_seven').plot(kind='bar', stacked=True),\n",
    " data.groupby(['drip', 'any_seven'])['any_seven'].count().\\\n",
    " unstack('any_seven').plot(kind='bar', stacked=True),\n",
    " data.groupby(['invited', 'any_seven'])['any_seven'].count().\\\n",
    " unstack('any_seven').plot(kind='bar', stacked=True),\n",
    " data.groupby(['guest_invite', 'any_seven'])['any_seven'].count().\\\n",
    " unstack('any_seven').plot(kind='bar', stacked=True),\n",
    " data.groupby(['personal_projects', 'any_seven'])['any_seven'].count().\\\n",
    " unstack('any_seven').plot(kind='bar', stacked=True)]"
   ]
  },
  {
   "cell_type": "code",
   "execution_count": null,
   "metadata": {
    "collapsed": true
   },
   "outputs": [],
   "source": [
    "# From visual inspection we can see that there are almost no engaged \n",
    "# users found for the creation_source = 'personal projects'"
   ]
  },
  {
   "cell_type": "code",
   "execution_count": 31,
   "metadata": {
    "collapsed": false
   },
   "outputs": [
    {
     "name": "stdout",
     "output_type": "stream",
     "text": [
      "0.569\n"
     ]
    }
   ],
   "source": [
    "print binaryEntropy(prob(data.any_seven, 1))"
   ]
  },
  {
   "cell_type": "code",
   "execution_count": 30,
   "metadata": {
    "collapsed": false
   },
   "outputs": [
    {
     "name": "stdout",
     "output_type": "stream",
     "text": [
      "mailing_list\n",
      "0.566421\n",
      "drip\n",
      "0.56749\n",
      "invited\n",
      "0.56582\n",
      "guest_invite\n",
      "0.56518\n",
      "personal_projects\n",
      "0.561448\n"
     ]
    }
   ],
   "source": [
    "#Compute the Absolute Conditional Entropy from using a\n",
    "print 'mailing_list'\n",
    "print prob(data.mailing_list, 1)*binaryEntropy(prob(data[data.mailing_list==1].any_seven, 1)) + \\\n",
    "      prob(data.mailing_list, 0)*binaryEntropy(prob(data[data.mailing_list==0].any_seven, 1))\n",
    "\n",
    "print 'drip'\n",
    "print prob(data.drip, 1)*binaryEntropy(prob(data[data.drip==1].any_seven, 1)) + \\\n",
    "      prob(data.drip, 0)*binaryEntropy(prob(data[data.drip==0].any_seven, 1))\n",
    "\n",
    "print 'invited'\n",
    "print prob(data.invited, 1)*binaryEntropy(prob(data[data.invited==1].any_seven, 1)) + \\\n",
    "      prob(data.invited, 0)*binaryEntropy(prob(data[data.invited==0].any_seven, 1))\n",
    "\n",
    "print 'guest_invite'\n",
    "print prob(data.guest_invite, 1)*binaryEntropy(prob(data[data.guest_invite==1].any_seven, 1)) + \\\n",
    "      prob(data.guest_invite, 0)*binaryEntropy(prob(data[data.guest_invite==0].any_seven, 1))\n",
    "\n",
    "print 'personal_projects'\n",
    "print prob(data.personal_projects, 1)*binaryEntropy(prob(data[data.personal_projects==1].any_seven, 1)) + \\\n",
    "      prob(data.personal_projects, 0)*binaryEntropy(prob(data[data.personal_projects==0].any_seven, 1))"
   ]
  },
  {
   "cell_type": "code",
   "execution_count": 32,
   "metadata": {
    "collapsed": true
   },
   "outputs": [],
   "source": [
    "from sklearn.tree import DecisionTreeClassifier\n",
    "classify=DecisionTreeClassifier(random_state=1)"
   ]
  },
  {
   "cell_type": "code",
   "execution_count": 37,
   "metadata": {
    "collapsed": false
   },
   "outputs": [
    {
     "data": {
      "text/plain": [
       "DecisionTreeClassifier(class_weight=None, criterion='gini', max_depth=None,\n",
       "            max_features=None, max_leaf_nodes=None, min_samples_leaf=1,\n",
       "            min_samples_split=2, min_weight_fraction_leaf=0.0,\n",
       "            presort=False, random_state=1, splitter='best')"
      ]
     },
     "execution_count": 37,
     "metadata": {},
     "output_type": "execute_result"
    }
   ],
   "source": [
    "feature_cols = ['mailing_list', 'drip', 'invited', 'guest_invite', 'personal_projects']\n",
    "X=data[feature_cols]\n",
    "y=data.any_seven\n",
    "classify.fit(X, y)"
   ]
  },
  {
   "cell_type": "code",
   "execution_count": 38,
   "metadata": {
    "collapsed": false
   },
   "outputs": [
    {
     "data": {
      "text/plain": [
       "array([ 0.02248217,  0.0411652 ,  0.08005508,  0.11383704,  0.74246051])"
      ]
     },
     "execution_count": 38,
     "metadata": {},
     "output_type": "execute_result"
    }
   ],
   "source": [
    "classify.feature_importances_"
   ]
  },
  {
   "cell_type": "code",
   "execution_count": null,
   "metadata": {
    "collapsed": false
   },
   "outputs": [],
   "source": []
  },
  {
   "cell_type": "code",
   "execution_count": null,
   "metadata": {
    "collapsed": true
   },
   "outputs": [],
   "source": []
  }
 ],
 "metadata": {
  "kernelspec": {
   "display_name": "Python 2",
   "language": "python",
   "name": "python2"
  },
  "language_info": {
   "codemirror_mode": {
    "name": "ipython",
    "version": 2
   },
   "file_extension": ".py",
   "mimetype": "text/x-python",
   "name": "python",
   "nbconvert_exporter": "python",
   "pygments_lexer": "ipython2",
   "version": "2.7.11"
  }
 },
 "nbformat": 4,
 "nbformat_minor": 0
}
