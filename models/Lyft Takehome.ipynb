{
 "cells": [
  {
   "cell_type": "markdown",
   "metadata": {},
   "source": [
    "# Setup"
   ]
  },
  {
   "cell_type": "code",
   "execution_count": 1,
   "metadata": {
    "collapsed": false
   },
   "outputs": [
    {
     "name": "stderr",
     "output_type": "stream",
     "text": [
      "/Users/michaeltwardos/anaconda/lib/python2.7/site-packages/matplotlib/font_manager.py:273: UserWarning: Matplotlib is building the font cache using fc-list. This may take a moment.\n",
      "  warnings.warn('Matplotlib is building the font cache using fc-list. This may take a moment.')\n"
     ]
    }
   ],
   "source": [
    "import pandas as pd\n",
    "import numpy as np\n",
    "import matplotlib.pyplot as plt\n",
    "%matplotlib inline\n",
    "import os\n",
    "os.chdir('/Users/MichaelTwardos/Desktop/') #SET THIS WORKING DIRECTORY TO YOURS\n",
    "data = pd.read_csv('rides.csv')"
   ]
  },
  {
   "cell_type": "code",
   "execution_count": 2,
   "metadata": {
    "collapsed": false
   },
   "outputs": [
    {
     "data": {
      "text/html": [
       "<div>\n",
       "<table border=\"1\" class=\"dataframe\">\n",
       "  <thead>\n",
       "    <tr style=\"text-align: right;\">\n",
       "      <th></th>\n",
       "      <th>hack_license</th>\n",
       "      <th>pickup_datetime</th>\n",
       "      <th>start_lat</th>\n",
       "      <th>start_lng</th>\n",
       "      <th>dropoff_datetime</th>\n",
       "      <th>end_lat</th>\n",
       "      <th>end_lng</th>\n",
       "      <th>distance_miles</th>\n",
       "      <th>duration_secs</th>\n",
       "      <th>passenger_count</th>\n",
       "    </tr>\n",
       "  </thead>\n",
       "  <tbody>\n",
       "    <tr>\n",
       "      <th>0</th>\n",
       "      <td>58894369838B3783D30EEAA92B364BEB</td>\n",
       "      <td>2013-08-11 10:16:00</td>\n",
       "      <td>40.761032</td>\n",
       "      <td>-73.987091</td>\n",
       "      <td>2013-08-11 10:19:00</td>\n",
       "      <td>40.758083</td>\n",
       "      <td>-73.985519</td>\n",
       "      <td>0.34</td>\n",
       "      <td>180</td>\n",
       "      <td>1</td>\n",
       "    </tr>\n",
       "    <tr>\n",
       "      <th>1</th>\n",
       "      <td>6AC79A2B688191545021B8CF96ED385F</td>\n",
       "      <td>2013-08-11 10:00:00</td>\n",
       "      <td>40.773907</td>\n",
       "      <td>-73.873360</td>\n",
       "      <td>2013-08-11 10:15:00</td>\n",
       "      <td>40.648796</td>\n",
       "      <td>-73.782616</td>\n",
       "      <td>12.11</td>\n",
       "      <td>900</td>\n",
       "      <td>1</td>\n",
       "    </tr>\n",
       "    <tr>\n",
       "      <th>2</th>\n",
       "      <td>C52F793C850CD7CBCC1875FD79A9414C</td>\n",
       "      <td>2013-08-11 10:04:00</td>\n",
       "      <td>40.761890</td>\n",
       "      <td>-73.986977</td>\n",
       "      <td>2013-08-11 10:15:00</td>\n",
       "      <td>40.818638</td>\n",
       "      <td>-73.951485</td>\n",
       "      <td>5.56</td>\n",
       "      <td>660</td>\n",
       "      <td>1</td>\n",
       "    </tr>\n",
       "    <tr>\n",
       "      <th>3</th>\n",
       "      <td>5946C99EE9D4216C0A7395E525F2ED5F</td>\n",
       "      <td>2013-08-11 10:04:00</td>\n",
       "      <td>40.765141</td>\n",
       "      <td>-73.980568</td>\n",
       "      <td>2013-08-11 10:13:00</td>\n",
       "      <td>40.780441</td>\n",
       "      <td>-73.972839</td>\n",
       "      <td>1.44</td>\n",
       "      <td>540</td>\n",
       "      <td>6</td>\n",
       "    </tr>\n",
       "    <tr>\n",
       "      <th>4</th>\n",
       "      <td>7C228290C05CE8E37E0FE4C1B806DF88</td>\n",
       "      <td>2013-08-11 10:09:00</td>\n",
       "      <td>40.731152</td>\n",
       "      <td>-73.982193</td>\n",
       "      <td>2013-08-11 10:12:00</td>\n",
       "      <td>40.730576</td>\n",
       "      <td>-73.975960</td>\n",
       "      <td>0.62</td>\n",
       "      <td>180</td>\n",
       "      <td>1</td>\n",
       "    </tr>\n",
       "  </tbody>\n",
       "</table>\n",
       "</div>"
      ],
      "text/plain": [
       "                       hack_license      pickup_datetime  start_lat  \\\n",
       "0  58894369838B3783D30EEAA92B364BEB  2013-08-11 10:16:00  40.761032   \n",
       "1  6AC79A2B688191545021B8CF96ED385F  2013-08-11 10:00:00  40.773907   \n",
       "2  C52F793C850CD7CBCC1875FD79A9414C  2013-08-11 10:04:00  40.761890   \n",
       "3  5946C99EE9D4216C0A7395E525F2ED5F  2013-08-11 10:04:00  40.765141   \n",
       "4  7C228290C05CE8E37E0FE4C1B806DF88  2013-08-11 10:09:00  40.731152   \n",
       "\n",
       "   start_lng     dropoff_datetime    end_lat    end_lng  distance_miles  \\\n",
       "0 -73.987091  2013-08-11 10:19:00  40.758083 -73.985519            0.34   \n",
       "1 -73.873360  2013-08-11 10:15:00  40.648796 -73.782616           12.11   \n",
       "2 -73.986977  2013-08-11 10:15:00  40.818638 -73.951485            5.56   \n",
       "3 -73.980568  2013-08-11 10:13:00  40.780441 -73.972839            1.44   \n",
       "4 -73.982193  2013-08-11 10:12:00  40.730576 -73.975960            0.62   \n",
       "\n",
       "   duration_secs  passenger_count  \n",
       "0            180                1  \n",
       "1            900                1  \n",
       "2            660                1  \n",
       "3            540                6  \n",
       "4            180                1  "
      ]
     },
     "execution_count": 2,
     "metadata": {},
     "output_type": "execute_result"
    }
   ],
   "source": [
    "#Look at the data\n",
    "data.head()"
   ]
  },
  {
   "cell_type": "code",
   "execution_count": 3,
   "metadata": {
    "collapsed": false
   },
   "outputs": [
    {
     "data": {
      "text/html": [
       "<div>\n",
       "<table border=\"1\" class=\"dataframe\">\n",
       "  <thead>\n",
       "    <tr style=\"text-align: right;\">\n",
       "      <th></th>\n",
       "      <th>start_lat</th>\n",
       "      <th>start_lng</th>\n",
       "      <th>end_lat</th>\n",
       "      <th>end_lng</th>\n",
       "      <th>distance_miles</th>\n",
       "      <th>duration_secs</th>\n",
       "      <th>passenger_count</th>\n",
       "    </tr>\n",
       "  </thead>\n",
       "  <tbody>\n",
       "    <tr>\n",
       "      <th>count</th>\n",
       "      <td>2835723.000000</td>\n",
       "      <td>2835723.000000</td>\n",
       "      <td>2835715.000000</td>\n",
       "      <td>2835715.000000</td>\n",
       "      <td>2835723.000000</td>\n",
       "      <td>2835723.000000</td>\n",
       "      <td>2835723.000000</td>\n",
       "    </tr>\n",
       "    <tr>\n",
       "      <th>mean</th>\n",
       "      <td>40.749596</td>\n",
       "      <td>-73.975251</td>\n",
       "      <td>40.750119</td>\n",
       "      <td>-73.974743</td>\n",
       "      <td>2.967321</td>\n",
       "      <td>747.643958</td>\n",
       "      <td>1.743615</td>\n",
       "    </tr>\n",
       "    <tr>\n",
       "      <th>std</th>\n",
       "      <td>0.027221</td>\n",
       "      <td>0.036386</td>\n",
       "      <td>0.030818</td>\n",
       "      <td>0.035539</td>\n",
       "      <td>3.431376</td>\n",
       "      <td>541.307909</td>\n",
       "      <td>1.414146</td>\n",
       "    </tr>\n",
       "    <tr>\n",
       "      <th>min</th>\n",
       "      <td>40.080708</td>\n",
       "      <td>-74.673485</td>\n",
       "      <td>40.055046</td>\n",
       "      <td>-74.772507</td>\n",
       "      <td>0.000000</td>\n",
       "      <td>-10.000000</td>\n",
       "      <td>0.000000</td>\n",
       "    </tr>\n",
       "    <tr>\n",
       "      <th>25%</th>\n",
       "      <td>40.735657</td>\n",
       "      <td>-73.992622</td>\n",
       "      <td>40.734795</td>\n",
       "      <td>-73.991821</td>\n",
       "      <td>1.000000</td>\n",
       "      <td>367.000000</td>\n",
       "      <td>1.000000</td>\n",
       "    </tr>\n",
       "    <tr>\n",
       "      <th>50%</th>\n",
       "      <td>40.752319</td>\n",
       "      <td>-73.982330</td>\n",
       "      <td>40.752762</td>\n",
       "      <td>-73.981117</td>\n",
       "      <td>1.940000</td>\n",
       "      <td>600.000000</td>\n",
       "      <td>1.000000</td>\n",
       "    </tr>\n",
       "    <tr>\n",
       "      <th>75%</th>\n",
       "      <td>40.765671</td>\n",
       "      <td>-73.969101</td>\n",
       "      <td>40.766369</td>\n",
       "      <td>-73.966469</td>\n",
       "      <td>3.250000</td>\n",
       "      <td>960.000000</td>\n",
       "      <td>2.000000</td>\n",
       "    </tr>\n",
       "    <tr>\n",
       "      <th>max</th>\n",
       "      <td>41.758438</td>\n",
       "      <td>-71.757393</td>\n",
       "      <td>41.756645</td>\n",
       "      <td>-71.757393</td>\n",
       "      <td>50.000000</td>\n",
       "      <td>7200.000000</td>\n",
       "      <td>6.000000</td>\n",
       "    </tr>\n",
       "  </tbody>\n",
       "</table>\n",
       "</div>"
      ],
      "text/plain": [
       "            start_lat       start_lng         end_lat         end_lng  \\\n",
       "count  2835723.000000  2835723.000000  2835715.000000  2835715.000000   \n",
       "mean        40.749596      -73.975251       40.750119      -73.974743   \n",
       "std          0.027221        0.036386        0.030818        0.035539   \n",
       "min         40.080708      -74.673485       40.055046      -74.772507   \n",
       "25%         40.735657      -73.992622       40.734795      -73.991821   \n",
       "50%         40.752319      -73.982330       40.752762      -73.981117   \n",
       "75%         40.765671      -73.969101       40.766369      -73.966469   \n",
       "max         41.758438      -71.757393       41.756645      -71.757393   \n",
       "\n",
       "       distance_miles   duration_secs  passenger_count  \n",
       "count  2835723.000000  2835723.000000   2835723.000000  \n",
       "mean         2.967321      747.643958         1.743615  \n",
       "std          3.431376      541.307909         1.414146  \n",
       "min          0.000000      -10.000000         0.000000  \n",
       "25%          1.000000      367.000000         1.000000  \n",
       "50%          1.940000      600.000000         1.000000  \n",
       "75%          3.250000      960.000000         2.000000  \n",
       "max         50.000000     7200.000000         6.000000  "
      ]
     },
     "execution_count": 3,
     "metadata": {},
     "output_type": "execute_result"
    }
   ],
   "source": [
    "#Characterize the Data\n",
    "data.describe()"
   ]
  },
  {
   "cell_type": "code",
   "execution_count": 329,
   "metadata": {
    "collapsed": true
   },
   "outputs": [],
   "source": [
    "# M((xp, yp),(xq, yq)) = α|xp − xq| + β|yp − yq|\n",
    "import math\n",
    "alpha = 84.2\n",
    "beta = 11.1\n",
    "\n",
    "def M(xp, yp, xq, yq):\n",
    "    return alpha*abs(xp-xq) + beta*abs(yp-yq)\n",
    "    \n",
    "#Capital denote desired\n",
    "#Lowercase denote actual\n",
    "    \n",
    "def f(XS, YS, XE, YE, xs, ys, xe, ye):\n",
    "    startEnergy = M(XS, YS, xs, ys)\n",
    "    endEnergy = M(XE, xe, YE, ye)\n",
    "    prob = math.exp(-(startEnergy + endEnergy))\n",
    "    return prob\n",
    "    \n",
    "    "
   ]
  },
  {
   "cell_type": "code",
   "execution_count": 318,
   "metadata": {
    "collapsed": true
   },
   "outputs": [],
   "source": [
    "# Remove the outliers / far trips\n",
    "temp = data[(data['start_lat']>40.5) & (data['start_lat'] < 41.2) & (data['start_lng'] > -74.4) & (data['start_lng'] < -73.2)]\n",
    "lessData =  temp[(temp['end_lat']>40.5) & (temp['end_lat'] < 41.2) & (temp['end_lng'] > -74.4) & (temp['end_lng'] < -73.2)]"
   ]
  },
  {
   "cell_type": "markdown",
   "metadata": {},
   "source": [
    "# Visualize and Explore"
   ]
  },
  {
   "cell_type": "code",
   "execution_count": 319,
   "metadata": {
    "collapsed": false
   },
   "outputs": [
    {
     "data": {
      "text/plain": [
       "<matplotlib.axes._subplots.AxesSubplot at 0x126f9ff90>"
      ]
     },
     "execution_count": 319,
     "metadata": {},
     "output_type": "execute_result"
    },
    {
     "data": {
      "image/png": "[encoded data removed]",
      "text/plain": [
       "<matplotlib.figure.Figure at 0x126f82050>"
      ]
     },
     "metadata": {},
     "output_type": "display_data"
    }
   ],
   "source": [
    "# df.plot(kind='scatter', x='a', y='b');\n",
    "lessData.plot(kind ='scatter', x='start_lat', y= 'start_lng')"
   ]
  },
  {
   "cell_type": "code",
   "execution_count": 317,
   "metadata": {
    "collapsed": false
   },
   "outputs": [
    {
     "data": {
      "text/plain": [
       "<matplotlib.axes._subplots.AxesSubplot at 0x10c338310>"
      ]
     },
     "execution_count": 317,
     "metadata": {},
     "output_type": "execute_result"
    },
    {
     "data": {
      "image/png": "[encoded data removed]",
      "text/plain": [
       "<matplotlib.figure.Figure at 0x10d2af790>"
      ]
     },
     "metadata": {},
     "output_type": "display_data"
    }
   ],
   "source": [
    "lessData.plot(kind ='scatter', x='end_lat', y= 'end_lng')"
   ]
  },
  {
   "cell_type": "code",
   "execution_count": 162,
   "metadata": {
    "collapsed": false
   },
   "outputs": [
    {
     "data": {
      "text/plain": [
       "<matplotlib.text.Text at 0x10c5333d0>"
      ]
     },
     "execution_count": 162,
     "metadata": {},
     "output_type": "execute_result"
    },
    {
     "data": {
      "image/png": "[encoded data removed]",
      "text/plain": [
       "<matplotlib.figure.Figure at 0x10daba0d0>"
      ]
     },
     "metadata": {},
     "output_type": "display_data"
    }
   ],
   "source": [
    "data[data.distance_miles<15]['distance_miles'].iloc[1:50000].plot(kind='hist', bins=100).set_xlabel(\"Miles\")"
   ]
  },
  {
   "cell_type": "code",
   "execution_count": 163,
   "metadata": {
    "collapsed": false
   },
   "outputs": [
    {
     "data": {
      "text/plain": [
       "<matplotlib.text.Text at 0x10c595310>"
      ]
     },
     "execution_count": 163,
     "metadata": {},
     "output_type": "execute_result"
    },
    {
     "data": {
      "image/png": "[encoded data removed]",
      "text/plain": [
       "<matplotlib.figure.Figure at 0x10ddd41d0>"
      ]
     },
     "metadata": {},
     "output_type": "display_data"
    }
   ],
   "source": [
    "data[data.duration_secs<4000]['duration_secs'].iloc[1:50000].plot(kind='hist', bins=100).set_xlabel(\"Seconds\")"
   ]
  },
  {
   "cell_type": "code",
   "execution_count": 165,
   "metadata": {
    "collapsed": false
   },
   "outputs": [
    {
     "data": {
      "text/plain": [
       "<matplotlib.axes._subplots.AxesSubplot at 0x10dca8250>"
      ]
     },
     "execution_count": 165,
     "metadata": {},
     "output_type": "execute_result"
    },
    {
     "data": {
      "image/png": "[encoded data removed]",
      "text/plain": [
       "<matplotlib.figure.Figure at 0x10dd73310>"
      ]
     },
     "metadata": {},
     "output_type": "display_data"
    }
   ],
   "source": [
    "data.iloc[1:50000].plot(kind='scatter', x='distance_miles', y='duration_secs')"
   ]
  },
  {
   "cell_type": "markdown",
   "metadata": {},
   "source": [
    "# Compute Hot Routes"
   ]
  },
  {
   "cell_type": "code",
   "execution_count": 150,
   "metadata": {
    "collapsed": false
   },
   "outputs": [],
   "source": [
    "# Here we will create a dictionary with lat and lng binned on grnlty \n",
    "# to count the frequency of each ride\n",
    "grnlty =0.02\n",
    "dict ={}\n",
    "for index, row in lessData.iloc[0:500000].iterrows():\n",
    "    route = (round(grnlty*math.floor(row['start_lat']/grnlty), 2), round(grnlty*math.floor(row['start_lng']/grnlty),2) , round(grnlty*math.floor(row['end_lat']/grnlty),2) , round(grnlty*math.floor(row['end_lng']/grnlty), 2) )    \n",
    "    if route in dict.keys():\n",
    "        dict[route]+=1\n",
    "    else:\n",
    "        dict[route]=1"
   ]
  },
  {
   "cell_type": "code",
   "execution_count": 320,
   "metadata": {
    "collapsed": false
   },
   "outputs": [
    {
     "data": {
      "text/plain": [
       "[((40.74, -74.0, 40.74, -73.98), 12387),\n",
       " ((40.74, -73.98, 40.74, -74.0), 11882),\n",
       " ((40.72, -74.0, 40.72, -74.0), 11125),\n",
       " ((40.72, -74.0, 40.74, -74.0), 11059),\n",
       " ((40.74, -74.0, 40.72, -74.0), 9740),\n",
       " ((40.74, -73.98, 40.74, -73.98), 8984),\n",
       " ((40.76, -73.98, 40.76, -73.98), 8899),\n",
       " ((40.76, -74.0, 40.74, -74.0), 8208),\n",
       " ((40.76, -73.98, 40.74, -74.0), 8163)]"
      ]
     },
     "execution_count": 320,
     "metadata": {},
     "output_type": "execute_result"
    }
   ],
   "source": [
    "# Here are the most popular trips in the data.\n",
    "# Many of them start at the same gridpoint that they end up on.\n",
    "\n",
    "tripFreq=sorted(dict.items(), key=lambda x: x[1], reverse=True)\n",
    "tripFreq[1:10]"
   ]
  },
  {
   "cell_type": "code",
   "execution_count": 321,
   "metadata": {
    "collapsed": false
   },
   "outputs": [],
   "source": [
    "tripFreqDF = pd.DataFrame([[item[0][0], item[0][1], item[0][2], item[0][3], item[1]] for item in tripFreq] ,  columns=['XS', 'YS', 'XE', 'YE', 'Rides'])"
   ]
  },
  {
   "cell_type": "code",
   "execution_count": 322,
   "metadata": {
    "collapsed": false
   },
   "outputs": [
    {
     "data": {
      "text/html": [
       "<div>\n",
       "<table border=\"1\" class=\"dataframe\">\n",
       "  <thead>\n",
       "    <tr style=\"text-align: right;\">\n",
       "      <th></th>\n",
       "      <th>XS</th>\n",
       "      <th>YS</th>\n",
       "      <th>XE</th>\n",
       "      <th>YE</th>\n",
       "      <th>Rides</th>\n",
       "    </tr>\n",
       "  </thead>\n",
       "  <tbody>\n",
       "    <tr>\n",
       "      <th>0</th>\n",
       "      <td>40.74</td>\n",
       "      <td>-74.00</td>\n",
       "      <td>40.74</td>\n",
       "      <td>-74.00</td>\n",
       "      <td>19459</td>\n",
       "    </tr>\n",
       "    <tr>\n",
       "      <th>1</th>\n",
       "      <td>40.74</td>\n",
       "      <td>-74.00</td>\n",
       "      <td>40.74</td>\n",
       "      <td>-73.98</td>\n",
       "      <td>12387</td>\n",
       "    </tr>\n",
       "    <tr>\n",
       "      <th>2</th>\n",
       "      <td>40.74</td>\n",
       "      <td>-73.98</td>\n",
       "      <td>40.74</td>\n",
       "      <td>-74.00</td>\n",
       "      <td>11882</td>\n",
       "    </tr>\n",
       "    <tr>\n",
       "      <th>3</th>\n",
       "      <td>40.72</td>\n",
       "      <td>-74.00</td>\n",
       "      <td>40.72</td>\n",
       "      <td>-74.00</td>\n",
       "      <td>11125</td>\n",
       "    </tr>\n",
       "    <tr>\n",
       "      <th>4</th>\n",
       "      <td>40.72</td>\n",
       "      <td>-74.00</td>\n",
       "      <td>40.74</td>\n",
       "      <td>-74.00</td>\n",
       "      <td>11059</td>\n",
       "    </tr>\n",
       "  </tbody>\n",
       "</table>\n",
       "</div>"
      ],
      "text/plain": [
       "      XS     YS     XE     YE  Rides\n",
       "0  40.74 -74.00  40.74 -74.00  19459\n",
       "1  40.74 -74.00  40.74 -73.98  12387\n",
       "2  40.74 -73.98  40.74 -74.00  11882\n",
       "3  40.72 -74.00  40.72 -74.00  11125\n",
       "4  40.72 -74.00  40.74 -74.00  11059"
      ]
     },
     "execution_count": 322,
     "metadata": {},
     "output_type": "execute_result"
    }
   ],
   "source": [
    "tripFreqDF.head()"
   ]
  },
  {
   "cell_type": "code",
   "execution_count": 325,
   "metadata": {
    "collapsed": true
   },
   "outputs": [],
   "source": [
    "# Find the most popular route for a given starting point\n",
    "def findMostPopularDestination(xs, ys):\n",
    "    return tripFreqDF[(tripFreqDF.XS==xs) & (tripFreqDF.YS == ys)].sort(['Rides'], ascending=False)"
   ]
  },
  {
   "cell_type": "code",
   "execution_count": 327,
   "metadata": {
    "collapsed": false
   },
   "outputs": [
    {
     "data": {
      "text/html": [
       "<div>\n",
       "<table border=\"1\" class=\"dataframe\">\n",
       "  <thead>\n",
       "    <tr style=\"text-align: right;\">\n",
       "      <th></th>\n",
       "      <th>XS</th>\n",
       "      <th>YS</th>\n",
       "      <th>XE</th>\n",
       "      <th>YE</th>\n",
       "      <th>Rides</th>\n",
       "    </tr>\n",
       "  </thead>\n",
       "  <tbody>\n",
       "    <tr>\n",
       "      <th>848</th>\n",
       "      <td>40.7</td>\n",
       "      <td>-73.94</td>\n",
       "      <td>40.70</td>\n",
       "      <td>-73.96</td>\n",
       "      <td>29</td>\n",
       "    </tr>\n",
       "    <tr>\n",
       "      <th>1122</th>\n",
       "      <td>40.7</td>\n",
       "      <td>-73.94</td>\n",
       "      <td>40.68</td>\n",
       "      <td>-73.94</td>\n",
       "      <td>17</td>\n",
       "    </tr>\n",
       "  </tbody>\n",
       "</table>\n",
       "</div>"
      ],
      "text/plain": [
       "        XS     YS     XE     YE  Rides\n",
       "848   40.7 -73.94  40.70 -73.96     29\n",
       "1122  40.7 -73.94  40.68 -73.94     17"
      ]
     },
     "execution_count": 327,
     "metadata": {},
     "output_type": "execute_result"
    }
   ],
   "source": [
    "findMostPopularDestination(40.70, -73.94).iloc[0:2]"
   ]
  },
  {
   "cell_type": "code",
   "execution_count": 203,
   "metadata": {
    "collapsed": true
   },
   "outputs": [],
   "source": [
    "# Here we create a dictionary that captures popularity of a given starting point\n",
    "# i.e. the overall demand for rides as a function of location.\n",
    "grnlty =0.02\n",
    "demand ={}\n",
    "for index, row in lessData.iloc[0:500000].iterrows():\n",
    "    depart = (round(grnlty*math.floor(row['start_lat']/grnlty), 2), round(grnlty*math.floor(row['start_lng']/grnlty),2)  )    \n",
    "    if depart in demand.keys():\n",
    "        demand[depart]+=1\n",
    "    else:\n",
    "        demand[depart]=1"
   ]
  },
  {
   "cell_type": "code",
   "execution_count": 288,
   "metadata": {
    "collapsed": false
   },
   "outputs": [],
   "source": [
    "demands=sorted(demand.items(), key=lambda x: x[1], reverse=True)\n",
    "demandDF = pd.DataFrame([[d[0][0], d[0][1], d[1]] for d in demands] ,  columns=['XS', 'YS','Rides'])"
   ]
  },
  {
   "cell_type": "code",
   "execution_count": 330,
   "metadata": {
    "collapsed": false
   },
   "outputs": [],
   "source": [
    "# Now we will incorporate the probabiliy function, f, to measure inferred demand.\n",
    "# Inferred demand accounts for the fact that a rider may walk from their current location\n",
    "# to a ride that is available some distance away.\n",
    "inferredDemand =[]\n",
    "for XS in np.arange(demandDF['XS'].min(), demandDF['XS'].max(), 0.02):\n",
    "    for YS in np.arange(demandDF['YS'].min(), demandDF['YS'].max(), 0.02):\n",
    "        dem =[]\n",
    "        for xs in np.arange(XS-0.1, XS + 0.1, 0.02):\n",
    "            for ys in np.arange(YS-0.1, YS+0.1, 0.02):\n",
    "                contribution = demandDF[(demandDF['XS']==round(xs,2)) & (demandDF['YS']==round(ys,2))] \n",
    "                if contribution['Rides'].mean() > 0:\n",
    "                    dem.append(f(XS, YS,0, 0, xs, ys, 0, 0)*contribution['Rides'].mean())\n",
    "        inferredDemand.append([round(XS,2), round(YS, 2), round(sum(dem), 2)])"
   ]
  },
  {
   "cell_type": "code",
   "execution_count": 333,
   "metadata": {
    "collapsed": true
   },
   "outputs": [],
   "source": [
    "inferredDemandDF = pd.DataFrame([[d[0], d[1], d[2]] for d in inferredDemand] ,  columns=['XS', 'YS','Demand'])"
   ]
  },
  {
   "cell_type": "code",
   "execution_count": 334,
   "metadata": {
    "collapsed": false
   },
   "outputs": [
    {
     "data": {
      "text/html": [
       "<div>\n",
       "<table border=\"1\" class=\"dataframe\">\n",
       "  <thead>\n",
       "    <tr style=\"text-align: right;\">\n",
       "      <th></th>\n",
       "      <th>XS</th>\n",
       "      <th>YS</th>\n",
       "      <th>Demand</th>\n",
       "    </tr>\n",
       "  </thead>\n",
       "  <tbody>\n",
       "    <tr>\n",
       "      <th>0</th>\n",
       "      <td>40.5</td>\n",
       "      <td>-74.52</td>\n",
       "      <td>0</td>\n",
       "    </tr>\n",
       "    <tr>\n",
       "      <th>1</th>\n",
       "      <td>40.5</td>\n",
       "      <td>-74.50</td>\n",
       "      <td>0</td>\n",
       "    </tr>\n",
       "    <tr>\n",
       "      <th>2</th>\n",
       "      <td>40.5</td>\n",
       "      <td>-74.48</td>\n",
       "      <td>0</td>\n",
       "    </tr>\n",
       "    <tr>\n",
       "      <th>3</th>\n",
       "      <td>40.5</td>\n",
       "      <td>-74.46</td>\n",
       "      <td>0</td>\n",
       "    </tr>\n",
       "    <tr>\n",
       "      <th>4</th>\n",
       "      <td>40.5</td>\n",
       "      <td>-74.44</td>\n",
       "      <td>0</td>\n",
       "    </tr>\n",
       "  </tbody>\n",
       "</table>\n",
       "</div>"
      ],
      "text/plain": [
       "     XS     YS  Demand\n",
       "0  40.5 -74.52       0\n",
       "1  40.5 -74.50       0\n",
       "2  40.5 -74.48       0\n",
       "3  40.5 -74.46       0\n",
       "4  40.5 -74.44       0"
      ]
     },
     "execution_count": 334,
     "metadata": {},
     "output_type": "execute_result"
    }
   ],
   "source": [
    "inferredDemandDF.head()"
   ]
  },
  {
   "cell_type": "code",
   "execution_count": 338,
   "metadata": {
    "collapsed": false
   },
   "outputs": [
    {
     "data": {
      "text/html": [
       "<div>\n",
       "<table border=\"1\" class=\"dataframe\">\n",
       "  <thead>\n",
       "    <tr style=\"text-align: right;\">\n",
       "      <th></th>\n",
       "      <th>XE</th>\n",
       "      <th>YE</th>\n",
       "    </tr>\n",
       "  </thead>\n",
       "  <tbody>\n",
       "    <tr>\n",
       "      <th>848</th>\n",
       "      <td>40.70</td>\n",
       "      <td>-73.96</td>\n",
       "    </tr>\n",
       "    <tr>\n",
       "      <th>1122</th>\n",
       "      <td>40.68</td>\n",
       "      <td>-73.94</td>\n",
       "    </tr>\n",
       "  </tbody>\n",
       "</table>\n",
       "</div>"
      ],
      "text/plain": [
       "         XE     YE\n",
       "848   40.70 -73.96\n",
       "1122  40.68 -73.94"
      ]
     },
     "execution_count": 338,
     "metadata": {},
     "output_type": "execute_result"
    }
   ],
   "source": [
    "findMostPopularDestination(40.70, -73.94).iloc[0:2][['XE', 'YE']]"
   ]
  },
  {
   "cell_type": "code",
   "execution_count": 335,
   "metadata": {
    "collapsed": true
   },
   "outputs": [],
   "source": [
    "def findInferredDemand(xs, ys):\n",
    "    return inferredDemandDF[(inferredDemandDF.XS==xs) & (inferredDemandDF.YS == ys)].sort(['Demand'], ascending=False)"
   ]
  },
  {
   "cell_type": "code",
   "execution_count": 390,
   "metadata": {
    "collapsed": false
   },
   "outputs": [],
   "source": [
    "# For a given starting location, the 'best route' considers the popularity of each route\n",
    "# multiplied by the inferred demand for the routes end.   For example a route that may be less\n",
    "# popular but takes riders to a location that has higher demand for the next ride should\n",
    "# be selected over a more popular route that has an ending location with no demand.\n",
    "\n",
    "\n",
    "def computeBestRoute(xs, ys):\n",
    "    routes = findMostPopularDestination(xs, ys)\n",
    "    options =[]\n",
    "    for index, route in routes.iterrows():\n",
    "        xe = route['XE']\n",
    "        ye = route['YE']\n",
    "        popularity = route['Rides']\n",
    "        demand = findInferredDemand(xe, ye)['Demand'].mean()\n",
    "        if [round(xe,2), round(ye,2)] != [xs, ys]:\n",
    "            options.append([round(xe, 2), round(ye, 2), round(popularity*demand, 1)])\n",
    "    return options\n",
    "            "
   ]
  },
  {
   "cell_type": "code",
   "execution_count": 404,
   "metadata": {
    "collapsed": false
   },
   "outputs": [
    {
     "data": {
      "text/plain": [
       "[[40.74, -74.02], [40.74, -74.0]]"
      ]
     },
     "execution_count": 404,
     "metadata": {},
     "output_type": "execute_result"
    }
   ],
   "source": [
    "route = [[40.74, -74.02]]\n",
    "options = computeBestRoute(40.74, -74.02)\n",
    "nextRoute=sorted(options, key=lambda x: x[2], reverse=True)\n",
    "for routes in nextRoute:\n",
    "    if routes[0:2] not in route:\n",
    "        route.append(routes[0:2])\n",
    "        newLocation = routes[0:2]\n",
    "        break\n",
    "route"
   ]
  },
  {
   "cell_type": "code",
   "execution_count": 411,
   "metadata": {
    "collapsed": false
   },
   "outputs": [],
   "source": [
    "def computeHotRoute(xs, ys, iterations):\n",
    "    route = [[xs, ys]]\n",
    "    newLocation = [xs, ys]\n",
    "    for i in range(iterations):\n",
    "        options = computeBestRoute(newLocation[0], newLocation[1])\n",
    "        potentialNextRoute=sorted(options, key=lambda x: x[2], reverse=True)\n",
    "        for routes in potentialNextRoute:\n",
    "            if routes[0:2] not in route:\n",
    "                route.append(routes[0:2])\n",
    "                newLocation = routes[0:2]\n",
    "                break\n",
    "    return route\n",
    "        "
   ]
  },
  {
   "cell_type": "code",
   "execution_count": 412,
   "metadata": {
    "collapsed": false
   },
   "outputs": [
    {
     "data": {
      "text/plain": [
       "[[40.76, -74.0],\n",
       " [40.74, -74.0],\n",
       " [40.74, -73.98],\n",
       " [40.76, -73.98],\n",
       " [40.76, -73.96],\n",
       " [40.72, -74.0]]"
      ]
     },
     "execution_count": 412,
     "metadata": {},
     "output_type": "execute_result"
    }
   ],
   "source": [
    "hotRoute = computeHotRoute(40.76, -74.0, 5)\n",
    "hotRoute"
   ]
  },
  {
   "cell_type": "code",
   "execution_count": 413,
   "metadata": {
    "collapsed": false
   },
   "outputs": [
    {
     "data": {
      "text/plain": [
       "[[40.72, -74.0],\n",
       " [40.74, -74.0],\n",
       " [40.74, -73.98],\n",
       " [40.76, -73.98],\n",
       " [40.76, -73.96],\n",
       " [40.76, -74.0],\n",
       " [40.74, -74.02],\n",
       " [40.72, -74.02],\n",
       " [40.7, -74.02],\n",
       " [40.7, -74.0],\n",
       " [40.72, -73.98],\n",
       " [40.76, -73.88],\n",
       " [40.78, -73.98],\n",
       " [40.78, -73.96],\n",
       " [40.78, -73.94],\n",
       " [40.8, -73.96]]"
      ]
     },
     "execution_count": 413,
     "metadata": {},
     "output_type": "execute_result"
    }
   ],
   "source": [
    "hotRoute = computeHotRoute(40.72, -74.0, 15)\n",
    "hotRoute"
   ]
  },
  {
   "cell_type": "code",
   "execution_count": 414,
   "metadata": {
    "collapsed": false
   },
   "outputs": [
    {
     "data": {
      "text/plain": [
       "[[40.74, -74.0],\n",
       " [40.74, -73.98],\n",
       " [40.76, -73.98],\n",
       " [40.76, -73.96],\n",
       " [40.76, -74.0],\n",
       " [40.72, -74.0]]"
      ]
     },
     "execution_count": 414,
     "metadata": {},
     "output_type": "execute_result"
    }
   ],
   "source": [
    "hotRoute =computeHotRoute(40.74, -74.0, 5)\n",
    "hotRoute"
   ]
  }
 ],
 "metadata": {
  "kernelspec": {
   "display_name": "Python 2",
   "language": "python",
   "name": "python2"
  },
  "language_info": {
   "codemirror_mode": {
    "name": "ipython",
    "version": 2
   },
   "file_extension": ".py",
   "mimetype": "text/x-python",
   "name": "python",
   "nbconvert_exporter": "python",
   "pygments_lexer": "ipython2",
   "version": "2.7.11"
  }
 },
 "nbformat": 4,
 "nbformat_minor": 0
}
