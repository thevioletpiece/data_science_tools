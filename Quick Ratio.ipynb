{
 "cells": [
  {
   "cell_type": "code",
   "execution_count": 1,
   "metadata": {
    "collapsed": false
   },
   "outputs": [
    {
     "name": "stderr",
     "output_type": "stream",
     "text": [
      "/Users/michaeltwardos/anaconda/lib/python2.7/site-packages/matplotlib/font_manager.py:273: UserWarning: Matplotlib is building the font cache using fc-list. This may take a moment.\n",
      "  warnings.warn('Matplotlib is building the font cache using fc-list. This may take a moment.')\n"
     ]
    }
   ],
   "source": [
    "import math\n",
    "import random\n",
    "import numpy as np\n",
    "import pandas as pd\n",
    "import matplotlib.pyplot as plt\n",
    "%matplotlib inline"
   ]
  },
  {
   "cell_type": "code",
   "execution_count": 2,
   "metadata": {
    "collapsed": true
   },
   "outputs": [],
   "source": [
    "def exponG(t, alpha):\n",
    "    if t<0:\n",
    "        return 0\n",
    "    else:\n",
    "        return math.exp(-alpha*t)\n",
    "\n",
    "def linResp(t, m):\n",
    "    if t < 0:\n",
    "        return 0\n",
    "    elif 1 - m*t  > 0:\n",
    "        return round(1 -m*t, 3)\n",
    "    else:\n",
    "        return 0\n",
    "\n",
    "def powResp(t, n):\n",
    "    if t < 1:\n",
    "        return 0\n",
    "    else:\n",
    "        return float(1)/math.pow(t,n)"
   ]
  },
  {
   "cell_type": "code",
   "execution_count": 14,
   "metadata": {
    "collapsed": false
   },
   "outputs": [
    {
     "data": {
      "text/plain": [
       "<matplotlib.text.Text at 0x10ab90e50>"
      ]
     },
     "execution_count": 14,
     "metadata": {},
     "output_type": "execute_result"
    },
    {
     "data": {
      "image/png": "[encoded data removed]",
      "text/plain": [
       "<matplotlib.figure.Figure at 0x10a97e5d0>"
      ]
     },
     "metadata": {},
     "output_type": "display_data"
    }
   ],
   "source": [
    "def computeExpQuick(t, alpha):\n",
    "    num = []\n",
    "    denom = []\n",
    "    for i in range(t+1):\n",
    "        num.append(exponG(i+1, alpha))\n",
    "        denom.append(1-exponG(i+1, alpha))\n",
    "    return float(1+sum(num))/sum(denom)\n",
    "\n",
    "        \n",
    "        \n",
    "quickRatioA = []\n",
    "quickRatioB = []\n",
    "\n",
    "for t in range(24):\n",
    "    quickRatioA.append(computeExpQuick(t, 0.05))\n",
    "    quickRatioB.append(computeExpQuick(t, 0.1))\n",
    "\n",
    "    \n",
    "df = pd.DataFrame(np.array(zip(quickRatioA, quickRatioB)), columns=['0.05', '0.1'])\n",
    "ax = df.plot(ylim=(0,20), fontsize=18,  color=['#6666ff','#ff6666'], grid = True, figsize=(8, 4));\n",
    "ax.set_xlabel(\"t (Months Since Launch)\", fontsize=18)\n",
    "ax.set_ylabel(\"X\", fontsize=18)"
   ]
  },
  {
   "cell_type": "code",
   "execution_count": 21,
   "metadata": {
    "collapsed": false
   },
   "outputs": [
    {
     "data": {
      "text/plain": [
       "1.7027557945423497"
      ]
     },
     "execution_count": 21,
     "metadata": {},
     "output_type": "execute_result"
    }
   ],
   "source": [
    "computeExpQuick(100, 0.01)"
   ]
  },
  {
   "cell_type": "code",
   "execution_count": null,
   "metadata": {
    "collapsed": true
   },
   "outputs": [],
   "source": [
    "#I don't think these calcula"
   ]
  }
 ],
 "metadata": {
  "kernelspec": {
   "display_name": "Python 2",
   "language": "python",
   "name": "python2"
  },
  "language_info": {
   "codemirror_mode": {
    "name": "ipython",
    "version": 2
   },
   "file_extension": ".py",
   "mimetype": "text/x-python",
   "name": "python",
   "nbconvert_exporter": "python",
   "pygments_lexer": "ipython2",
   "version": "2.7.11"
  }
 },
 "nbformat": 4,
 "nbformat_minor": 0
}
