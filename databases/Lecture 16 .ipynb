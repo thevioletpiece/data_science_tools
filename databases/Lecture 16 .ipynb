{
 "cells": [
  {
   "cell_type": "markdown",
   "metadata": {},
   "source": [
    "# Introduction to sqlite and SQL  "
   ]
  },
  {
   "cell_type": "code",
   "execution_count": null,
   "metadata": {
    "collapsed": false
   },
   "outputs": [],
   "source": [
    "import pandas as pd\n",
    "import numpy as np\n",
    "import matplotlib.pyplot as plt\n",
    "%matplotlib inline\n",
    "from pandas.io import sql\n",
    "import sqlite3"
   ]
  },
  {
   "cell_type": "markdown",
   "metadata": {},
   "source": [
    "### Setup"
   ]
  },
  {
   "cell_type": "code",
   "execution_count": null,
   "metadata": {
    "collapsed": false
   },
   "outputs": [],
   "source": [
    "#The data has information about when users for fictional company signed up and other metadata about them.\n",
    "users = pd.read_csv('users.csv', low_memory=False)\n",
    "users.head()"
   ]
  },
  {
   "cell_type": "code",
   "execution_count": null,
   "metadata": {
    "collapsed": true
   },
   "outputs": [],
   "source": [
    "conn = sqlite3.connect('lesson-16.db', detect_types=sqlite3.PARSE_DECLTYPES)"
   ]
  },
  {
   "cell_type": "code",
   "execution_count": null,
   "metadata": {
    "collapsed": false
   },
   "outputs": [],
   "source": [
    "#Put data into the eliflo DB\n",
    "users.to_sql('users',\n",
    "            con=conn,\n",
    "            if_exists='replace',\n",
    "            index=False)"
   ]
  },
  {
   "cell_type": "markdown",
   "metadata": {},
   "source": [
    "### Count, Sum, Average"
   ]
  },
  {
   "cell_type": "code",
   "execution_count": null,
   "metadata": {
    "collapsed": false
   },
   "outputs": [],
   "source": [
    "#Our first query in python sqlite!  What does * mean?\n",
    "#Who knows the HelloWorld of SQL?\n",
    "a=sql.read_sql('''\n",
    "\n",
    "WRITE QUERY HERE\n",
    "\n",
    "''', con=conn)\n",
    "a\n",
    "#Question - Given a new data set in SQL, what are ways you start categorizing a data set?  \n",
    "#What is the equivalent of df.describe?"
   ]
  },
  {
   "cell_type": "code",
   "execution_count": null,
   "metadata": {
    "collapsed": false
   },
   "outputs": [],
   "source": [
    "#See what tables currently exist in your database.\n",
    "a=sql.read_sql('''\n",
    "SELECT name FROM sqlite_master WHERE type = \"table\";\n",
    "''', con=conn)\n",
    "a"
   ]
  },
  {
   "cell_type": "code",
   "execution_count": null,
   "metadata": {
    "collapsed": false
   },
   "outputs": [],
   "source": [
    "#Examples of count, sum and average functions\n",
    "a=sql.read_sql('''\n",
    "select  \n",
    "    count(*)  as num_of_rows,\n",
    "    count(distinct(customerid))  as distinct_customers,\n",
    "    sum(mailinglist) as num_mailing,\n",
    "    avg(mailinglist) as mailing_probability\n",
    "from \n",
    "    users ;\n",
    "''', con=conn)\n",
    "a"
   ]
  },
  {
   "cell_type": "markdown",
   "metadata": {},
   "source": [
    "How many distinct users (parentid) invited a customer?"
   ]
  },
  {
   "cell_type": "code",
   "execution_count": null,
   "metadata": {
    "collapsed": false
   },
   "outputs": [],
   "source": []
  },
  {
   "cell_type": "markdown",
   "metadata": {},
   "source": [
    "### Min, Max"
   ]
  },
  {
   "cell_type": "code",
   "execution_count": null,
   "metadata": {
    "collapsed": false
   },
   "outputs": [],
   "source": [
    "#use min, max and date to compute date range.\n",
    "#Date functionality is very useful.\n",
    "a=sql.read_sql('''\n",
    "select  \n",
    "    date(min(datecreated), 'unixepoch') as start_date, \n",
    "    date(max(datecreated), 'unixepoch') as end_date\n",
    "from \n",
    "    users ;\n",
    "''', con=conn)\n",
    "a"
   ]
  },
  {
   "cell_type": "markdown",
   "metadata": {},
   "source": [
    "### Case"
   ]
  },
  {
   "cell_type": "code",
   "execution_count": null,
   "metadata": {
    "collapsed": false
   },
   "outputs": [],
   "source": [
    "#Example of using case \n",
    "a=sql.read_sql('''\n",
    "select  \n",
    "    sum(case when mailinglist = 1 then 1 else 0 end) as mailing_true,\n",
    "    sum(case when mailinglist = 0 then 1 else 0 end) as mailing_false,\n",
    "    sum(case when mailinglist not in (0, 1) then 1 else 0 end) as mailing_other\n",
    "from \n",
    "    users ;\n",
    "''', con=conn)\n",
    "a"
   ]
  },
  {
   "cell_type": "markdown",
   "metadata": {},
   "source": [
    "Use case to measure how many customers were invited by someone"
   ]
  },
  {
   "cell_type": "code",
   "execution_count": null,
   "metadata": {
    "collapsed": false
   },
   "outputs": [],
   "source": []
  },
  {
   "cell_type": "markdown",
   "metadata": {},
   "source": [
    "### Group By"
   ]
  },
  {
   "cell_type": "code",
   "execution_count": null,
   "metadata": {
    "collapsed": false
   },
   "outputs": [],
   "source": [
    "#Show signups per day\n",
    "a=sql.read_sql('''\n",
    "select \n",
    "    date(datecreated, 'unixepoch') as day_created, \n",
    "    count(*) as new_users \n",
    "from \n",
    "    users \n",
    "group by 1\n",
    "''', con=conn)\n",
    "a.plot()"
   ]
  },
  {
   "cell_type": "markdown",
   "metadata": {},
   "source": [
    "How many users came through each source?"
   ]
  },
  {
   "cell_type": "code",
   "execution_count": null,
   "metadata": {
    "collapsed": false
   },
   "outputs": [],
   "source": [
    "#What are the most popular sources that users came from?\n",
    "a=sql.read_sql('''\n",
    "select \n",
    "    source, \n",
    "    count(*) as new_users \n",
    "from \n",
    "    users \n",
    "group by 1 \n",
    "order by 2 desc;\n",
    "''', con=conn)\n",
    "a"
   ]
  },
  {
   "cell_type": "markdown",
   "metadata": {},
   "source": [
    "### Modulo"
   ]
  },
  {
   "cell_type": "code",
   "execution_count": null,
   "metadata": {
    "collapsed": false
   },
   "outputs": [],
   "source": [
    "#Bucketing users.  Good for experiments!\n",
    "a=sql.read_sql('''\n",
    "select \n",
    "    customerid % 4, \n",
    "    count(*) as new_users \n",
    "from \n",
    "    users \n",
    "group by 1\n",
    "''', con=conn)\n",
    "a"
   ]
  },
  {
   "cell_type": "markdown",
   "metadata": {},
   "source": [
    "# Growth Analytics with Master Fact "
   ]
  },
  {
   "cell_type": "code",
   "execution_count": null,
   "metadata": {
    "collapsed": false
   },
   "outputs": [],
   "source": [
    "#Get data about these users subsequent activity\n",
    "activity = pd.read_csv('activity.csv', low_memory=False)\n",
    "activity.head()"
   ]
  },
  {
   "cell_type": "code",
   "execution_count": null,
   "metadata": {
    "collapsed": false
   },
   "outputs": [],
   "source": [
    "#Convert activity to sqlite\n",
    "activity.to_sql('master_fact',\n",
    "            con=conn,\n",
    "            if_exists='replace',\n",
    "            index=False)"
   ]
  },
  {
   "cell_type": "markdown",
   "metadata": {},
   "source": [
    "### Subquery"
   ]
  },
  {
   "cell_type": "code",
   "execution_count": null,
   "metadata": {
    "collapsed": false
   },
   "outputs": [],
   "source": [
    "# A brief detour\n",
    "# Example of a subquery\n",
    "a=sql.read_sql('''\n",
    "select\n",
    "visits,\n",
    "count(distinct(customerid)) as customers\n",
    "from\n",
    "(\n",
    "select\n",
    "    customerid,\n",
    "    count(*) as visits\n",
    "from\n",
    "    master_fact\n",
    "where\n",
    "    eventtype = 'login'\n",
    "group by 1 \n",
    ") q\n",
    "group by 1 \n",
    "order by 2 desc;\n",
    "    ''', con=conn)\n",
    "a.head(5)\n",
    "               "
   ]
  },
  {
   "cell_type": "markdown",
   "metadata": {},
   "source": [
    "### Join Example"
   ]
  },
  {
   "cell_type": "code",
   "execution_count": null,
   "metadata": {
    "collapsed": true
   },
   "outputs": [],
   "source": [
    "Give me the users that were active on '2014-01-01' that were also active on '2014-01-07'."
   ]
  },
  {
   "cell_type": "code",
   "execution_count": null,
   "metadata": {
    "collapsed": false
   },
   "outputs": [],
   "source": []
  },
  {
   "cell_type": "markdown",
   "metadata": {},
   "source": [
    "### Measuring a Growth Susceptibility: Retention Rate"
   ]
  },
  {
   "cell_type": "code",
   "execution_count": null,
   "metadata": {
    "collapsed": false
   },
   "outputs": [],
   "source": [
    "#This query show the percentage of customers per cohort that were active in the second week after they signed up.\n",
    "a=sql.read_sql('''\n",
    "select \n",
    "    a.day_created,\n",
    "    cast(returning_users as real)/new_users\n",
    "from\n",
    "(\n",
    "select\n",
    "    substr(date(datecreated, 'unixepoch'), 1,7) as day_created,\n",
    "    count(distinct(customerid)) as new_users\n",
    "from\n",
    "    users \n",
    "group by 1\n",
    ") a\n",
    "left join\n",
    "(\n",
    "select\n",
    "    substr(date(a.datecreated, 'unixepoch'), 1,7) as day_created,\n",
    "    count(distinct(b.customerid)) as returning_users\n",
    "from\n",
    "    users a\n",
    "left join\n",
    "    master_fact b\n",
    "on\n",
    "    a.customerid = b.customerid\n",
    "where\n",
    "    b.timestamp between a.datecreated + 7*86400 and a.datecreated + 14*86400\n",
    "group by 1\n",
    ") b\n",
    "on a.day_created = b.day_created\n",
    "    ''', con=conn)\n",
    "a.head(10)"
   ]
  },
  {
   "cell_type": "code",
   "execution_count": null,
   "metadata": {
    "collapsed": false
   },
   "outputs": [],
   "source": [
    "#This query looks at the retention rate for a selected cohort.\n",
    "a=sql.read_sql('''\n",
    "select \n",
    "    month as age_in_months,\n",
    "    cast(returning_users as real)/initial_cohort as retention_rate\n",
    "from\n",
    "(select\n",
    "   cast((b.timestamp - a.datecreated)/(86400*30) as int) as month,\n",
    "    count(distinct(b.customerid)) as returning_users\n",
    "from\n",
    "    users a\n",
    "left join\n",
    "    master_fact b\n",
    "on\n",
    "    a.customerid = b.customerid\n",
    "where\n",
    "    substr(date(a.datecreated, 'unixepoch'), 1,7) = '2012-06' and\n",
    "    cast((b.timestamp - a.datecreated)/(86400*30) as int) >= 0\n",
    "group by 1) a,\n",
    "(select\n",
    "    count(distinct(customerid)) as initial_cohort\n",
    "from\n",
    "    users a\n",
    "where\n",
    "    substr(date(a.datecreated, 'unixepoch'), 1,7) = '2012-06' \n",
    ")\n",
    "    ''', con=conn)\n",
    "a.head(5)"
   ]
  },
  {
   "cell_type": "code",
   "execution_count": null,
   "metadata": {
    "collapsed": false
   },
   "outputs": [],
   "source": [
    "#Generalizing the calculation of a retention curve\n",
    "def constructRetentionCurve(month):\n",
    "    string = '''\n",
    "    select \n",
    "        month,\n",
    "        cast(returning_users as real)/initial_cohort as retention_rate\n",
    "    from\n",
    "    (select\n",
    "        cast((b.timestamp - a.datecreated)/(86400*30) as int) as month,\n",
    "        count(distinct(b.customerid)) as returning_users\n",
    "    from\n",
    "        users a\n",
    "    left join\n",
    "        master_fact b\n",
    "    on\n",
    "        a.customerid = b.customerid\n",
    "    where\n",
    "        substr(date(a.datecreated, 'unixepoch'), 1,7) = '%s' and\n",
    "        cast((b.timestamp - a.datecreated)/(86400*30) as int) >= 0\n",
    "    group by 1) a,\n",
    "    (select\n",
    "        count(distinct(customerid)) as initial_cohort\n",
    "    from\n",
    "        users a\n",
    "    where\n",
    "        substr(date(a.datecreated, 'unixepoch'), 1,7) = '%s'  \n",
    "    )\n",
    "    ''' % (month, month)\n",
    "    return string"
   ]
  },
  {
   "cell_type": "code",
   "execution_count": null,
   "metadata": {
    "collapsed": false
   },
   "outputs": [],
   "source": [
    "a=sql.read_sql(constructRetentionCurve('2012-10'), con=conn)\n",
    "b=sql.read_sql(constructRetentionCurve('2012-06'), con=conn)\n",
    "#How do we join the retention curves together?"
   ]
  },
  {
   "cell_type": "code",
   "execution_count": null,
   "metadata": {
    "collapsed": true
   },
   "outputs": [],
   "source": [
    "# A function to simulate linear susceptibility.\n",
    "def linearG(t, b, m):\n",
    "    if t < 0:\n",
    "        return 0\n",
    "    if t == 0:\n",
    "        return 0.75\n",
    "    elif b - m*t  > 0:\n",
    "        return round(b -m*t, 3)\n",
    "    else:\n",
    "        return 0"
   ]
  },
  {
   "cell_type": "code",
   "execution_count": null,
   "metadata": {
    "collapsed": false
   },
   "outputs": [],
   "source": [
    "plt.figure(figsize=(8,5))\n",
    "plt.style.use('seaborn-whitegrid')\n",
    "plt.rc('lines', linewidth=3)\n",
    "plt.plot([item for item in a['month']] ,[item for item in a['retention_rate']]) \n",
    "plt.plot([item for item in b['month']] ,[item for item in b['retention_rate']]) \n",
    "#Compare these measurements to a functional form.\n",
    "#plt.plot([item for item in range(30)] ,[linearG(item, 0.15, 0.002) for item in range(30)]) \n",
    "plt.xlabel('Age (ty - tx)')\n",
    "plt.ylabel('P(y)')\n",
    "plt.ylim((0,1))\n",
    "plt.show()"
   ]
  },
  {
   "cell_type": "markdown",
   "metadata": {},
   "source": [
    "### Use susceptibility to do projections"
   ]
  },
  {
   "cell_type": "code",
   "execution_count": null,
   "metadata": {
    "collapsed": false
   },
   "outputs": [],
   "source": [
    "def computeYLin(cohorts, daysOut, b, m):\n",
    "    currentDay = len(cohorts)\n",
    "    Y = []\n",
    "    #First Calculate DAU while cohorts are being acquired\n",
    "    for t in range(currentDay):\n",
    "        actives=[]\n",
    "        for i in range(t):\n",
    "            actives.append(round(cohorts[t-i]*linearG(i, b, m), 3))\n",
    "        Y.append(sum(actives))\n",
    "    #Now calculate more DAU as we project out after acquiring cohorts\n",
    "    for t in range(daysOut):\n",
    "        actives=[]\n",
    "        for i in range(currentDay):\n",
    "            actives.append(round(cohorts[currentDay-i-1]*linearG(t+i-1, b, m), 3))\n",
    "        Y.append(sum(actives))\n",
    "    return Y "
   ]
  },
  {
   "cell_type": "code",
   "execution_count": null,
   "metadata": {
    "collapsed": false
   },
   "outputs": [],
   "source": [
    "#Show signups per day\n",
    "new_users=sql.read_sql('''\n",
    "select \n",
    "    substr(date(datecreated, 'unixepoch'), 1,7) as month_created, \n",
    "    count(*) as new_users \n",
    "from \n",
    "    users \n",
    "group by 1\n",
    "''', con=conn)\n",
    "plt.figure(figsize=(6,4))\n",
    "plt.style.use('seaborn-whitegrid')\n",
    "plt.xlabel('time (months)')\n",
    "plt.ylabel('New Users')\n",
    "plt.plot(new_users['new_users'])"
   ]
  },
  {
   "cell_type": "code",
   "execution_count": null,
   "metadata": {
    "collapsed": false
   },
   "outputs": [],
   "source": [
    "#Show active users per day\n",
    "dau=sql.read_sql('''\n",
    "select \n",
    "    substr(date(timestamp, 'unixepoch'), 1,7) as month_active, \n",
    "    count(distinct(customerid)) as active_users \n",
    "from \n",
    "    master_fact\n",
    "group by 1\n",
    "''', con=conn)\n",
    "plt.figure(figsize=(6,4))\n",
    "plt.style.use('seaborn-whitegrid')\n",
    "plt.xlabel('time (months)')\n",
    "plt.ylabel('DAU')\n",
    "plt.plot(dau['active_users'])\n"
   ]
  },
  {
   "cell_type": "code",
   "execution_count": null,
   "metadata": {
    "collapsed": false
   },
   "outputs": [],
   "source": [
    "cohorts = [item for item in new_users['new_users']]\n",
    "results=pd.DataFrame(computeYLin(cohorts, 1, 0.15, 0.002))\n",
    "#Project out further\n",
    "#results=pd.DataFrame(computeYLin(cohorts, 1, 0.15, 0.002))\n",
    "plt.figure(figsize=(6,4))\n",
    "plt.style.use('seaborn-whitegrid')\n",
    "plt.xlabel('time (months)')\n",
    "plt.ylabel('DAU')\n",
    "plt.plot(dau['active_users'])\n",
    "plt.plot(results)\n",
    "#What if we half the rate of decay and increase the initial intercept?\n",
    "#results2=pd.DataFrame(computeYLin(cohorts, 1, 0.2, 0.001))\n",
    "#plt.plot(results2)\n",
    "\n",
    "plt.show()"
   ]
  },
  {
   "cell_type": "markdown",
   "metadata": {},
   "source": [
    "# Building a Churn Prediction Model"
   ]
  },
  {
   "cell_type": "markdown",
   "metadata": {
    "collapsed": true
   },
   "source": [
    "#### Write a query that uses the number of logins a customer performs in the first 30 days  (as well as other metadata such as source, mailinglist) to determine whether a customer will be active in  their fourth month (days 90 through 120)."
   ]
  },
  {
   "cell_type": "code",
   "execution_count": null,
   "metadata": {
    "collapsed": true
   },
   "outputs": [],
   "source": []
  }
 ],
 "metadata": {
  "kernelspec": {
   "display_name": "Python 2",
   "language": "python",
   "name": "python2"
  },
  "language_info": {
   "codemirror_mode": {
    "name": "ipython",
    "version": 2
   },
   "file_extension": ".py",
   "mimetype": "text/x-python",
   "name": "python",
   "nbconvert_exporter": "python",
   "pygments_lexer": "ipython2",
   "version": "2.7.11"
  }
 },
 "nbformat": 4,
 "nbformat_minor": 0
}
