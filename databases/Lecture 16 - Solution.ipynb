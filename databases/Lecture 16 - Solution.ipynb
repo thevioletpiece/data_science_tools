{
 "cells": [
  {
   "cell_type": "markdown",
   "metadata": {},
   "source": [
    "# Introduction to sqlite and SQL  "
   ]
  },
  {
   "cell_type": "code",
   "execution_count": 1,
   "metadata": {
    "collapsed": false
   },
   "outputs": [
    {
     "name": "stderr",
     "output_type": "stream",
     "text": [
      "/Users/michaeltwardos/anaconda/lib/python2.7/site-packages/matplotlib/font_manager.py:273: UserWarning: Matplotlib is building the font cache using fc-list. This may take a moment.\n",
      "  warnings.warn('Matplotlib is building the font cache using fc-list. This may take a moment.')\n"
     ]
    }
   ],
   "source": [
    "import pandas as pd\n",
    "import numpy as np\n",
    "import matplotlib.pyplot as plt\n",
    "%matplotlib inline\n",
    "from pandas.io import sql\n",
    "import sqlite3"
   ]
  },
  {
   "cell_type": "markdown",
   "metadata": {},
   "source": [
    "### Setup"
   ]
  },
  {
   "cell_type": "code",
   "execution_count": 2,
   "metadata": {
    "collapsed": false
   },
   "outputs": [
    {
     "data": {
      "text/html": [
       "<div>\n",
       "<table border=\"1\" class=\"dataframe\">\n",
       "  <thead>\n",
       "    <tr style=\"text-align: right;\">\n",
       "      <th></th>\n",
       "      <th>customerid</th>\n",
       "      <th>datecreated</th>\n",
       "      <th>source</th>\n",
       "      <th>mailinglist</th>\n",
       "      <th>testgroup</th>\n",
       "      <th>orgid</th>\n",
       "      <th>parentid</th>\n",
       "    </tr>\n",
       "  </thead>\n",
       "  <tbody>\n",
       "    <tr>\n",
       "      <th>0</th>\n",
       "      <td>3861</td>\n",
       "      <td>1338425007</td>\n",
       "      <td>ORG_INVITE</td>\n",
       "      <td>0</td>\n",
       "      <td>0</td>\n",
       "      <td>115</td>\n",
       "      <td>3861</td>\n",
       "    </tr>\n",
       "    <tr>\n",
       "      <th>1</th>\n",
       "      <td>11430</td>\n",
       "      <td>1338428551</td>\n",
       "      <td>ORG_INVITE</td>\n",
       "      <td>0</td>\n",
       "      <td>0</td>\n",
       "      <td>239</td>\n",
       "      <td>5677</td>\n",
       "    </tr>\n",
       "    <tr>\n",
       "      <th>2</th>\n",
       "      <td>7170</td>\n",
       "      <td>1338445431</td>\n",
       "      <td>ORG_INVITE</td>\n",
       "      <td>0</td>\n",
       "      <td>0</td>\n",
       "      <td>145</td>\n",
       "      <td>7170</td>\n",
       "    </tr>\n",
       "    <tr>\n",
       "      <th>3</th>\n",
       "      <td>10012</td>\n",
       "      <td>1338452406</td>\n",
       "      <td>ORG_INVITE</td>\n",
       "      <td>0</td>\n",
       "      <td>1</td>\n",
       "      <td>225</td>\n",
       "      <td>7104</td>\n",
       "    </tr>\n",
       "    <tr>\n",
       "      <th>4</th>\n",
       "      <td>11999</td>\n",
       "      <td>1338465359</td>\n",
       "      <td>PERSONAL_PROJECTS</td>\n",
       "      <td>0</td>\n",
       "      <td>0</td>\n",
       "      <td>6</td>\n",
       "      <td>NULL</td>\n",
       "    </tr>\n",
       "  </tbody>\n",
       "</table>\n",
       "</div>"
      ],
      "text/plain": [
       "   customerid  datecreated                source  mailinglist  testgroup  \\\n",
       "0        3861   1338425007   ORG_INVITE                     0          0   \n",
       "1       11430   1338428551   ORG_INVITE                     0          0   \n",
       "2        7170   1338445431   ORG_INVITE                     0          0   \n",
       "3       10012   1338452406   ORG_INVITE                     0          1   \n",
       "4       11999   1338465359   PERSONAL_PROJECTS              0          0   \n",
       "\n",
       "   orgid              parentid  \n",
       "0    115                  3861  \n",
       "1    239                  5677  \n",
       "2    145                  7170  \n",
       "3    225                  7104  \n",
       "4      6                 NULL   "
      ]
     },
     "execution_count": 2,
     "metadata": {},
     "output_type": "execute_result"
    }
   ],
   "source": [
    "#The data has information about when users for fictional company signed up and other metadata about them.\n",
    "users = pd.read_csv('users.csv', low_memory=False)\n",
    "users.head()"
   ]
  },
  {
   "cell_type": "code",
   "execution_count": 3,
   "metadata": {
    "collapsed": true
   },
   "outputs": [],
   "source": [
    "conn = sqlite3.connect('lesson-16.db', detect_types=sqlite3.PARSE_DECLTYPES)"
   ]
  },
  {
   "cell_type": "code",
   "execution_count": 4,
   "metadata": {
    "collapsed": false
   },
   "outputs": [],
   "source": [
    "#Put data into the eliflo DB\n",
    "users.to_sql('users',\n",
    "            con=conn,\n",
    "            if_exists='replace',\n",
    "            index=False)"
   ]
  },
  {
   "cell_type": "markdown",
   "metadata": {},
   "source": [
    "### Count, Sum, Average"
   ]
  },
  {
   "cell_type": "code",
   "execution_count": 11,
   "metadata": {
    "collapsed": false
   },
   "outputs": [
    {
     "data": {
      "text/html": [
       "<div>\n",
       "<table border=\"1\" class=\"dataframe\">\n",
       "  <thead>\n",
       "    <tr style=\"text-align: right;\">\n",
       "      <th></th>\n",
       "      <th>customerid</th>\n",
       "      <th>datecreated</th>\n",
       "      <th>source</th>\n",
       "      <th>mailinglist</th>\n",
       "      <th>testgroup</th>\n",
       "      <th>orgid</th>\n",
       "      <th>parentid</th>\n",
       "    </tr>\n",
       "  </thead>\n",
       "  <tbody>\n",
       "    <tr>\n",
       "      <th>0</th>\n",
       "      <td>3861</td>\n",
       "      <td>1338425007</td>\n",
       "      <td>ORG_INVITE</td>\n",
       "      <td>0</td>\n",
       "      <td>0</td>\n",
       "      <td>115</td>\n",
       "      <td>3861</td>\n",
       "    </tr>\n",
       "  </tbody>\n",
       "</table>\n",
       "</div>"
      ],
      "text/plain": [
       "   customerid  datecreated                source  mailinglist  testgroup  \\\n",
       "0        3861   1338425007   ORG_INVITE                     0          0   \n",
       "\n",
       "   orgid parentid  \n",
       "0    115     3861  "
      ]
     },
     "execution_count": 11,
     "metadata": {},
     "output_type": "execute_result"
    }
   ],
   "source": [
    "#Our first query in python sqlite!  What does * mean?\n",
    "#Who knows the HelloWorld of SQL?\n",
    "a=sql.read_sql('''\n",
    "select * from users limit 1;\n",
    "''', con=conn)\n",
    "a\n",
    "#Question - Given a new data set in SQL, what are ways you start categorizing a data set?  \n",
    "#What is the equivalent of df.describe?"
   ]
  },
  {
   "cell_type": "code",
   "execution_count": 8,
   "metadata": {
    "collapsed": false
   },
   "outputs": [
    {
     "data": {
      "text/html": [
       "<div>\n",
       "<table border=\"1\" class=\"dataframe\">\n",
       "  <thead>\n",
       "    <tr style=\"text-align: right;\">\n",
       "      <th></th>\n",
       "      <th>name</th>\n",
       "    </tr>\n",
       "  </thead>\n",
       "  <tbody>\n",
       "    <tr>\n",
       "      <th>0</th>\n",
       "      <td>lesson-16</td>\n",
       "    </tr>\n",
       "    <tr>\n",
       "      <th>1</th>\n",
       "      <td>master_fact</td>\n",
       "    </tr>\n",
       "    <tr>\n",
       "      <th>2</th>\n",
       "      <td>users</td>\n",
       "    </tr>\n",
       "  </tbody>\n",
       "</table>\n",
       "</div>"
      ],
      "text/plain": [
       "          name\n",
       "0    lesson-16\n",
       "1  master_fact\n",
       "2        users"
      ]
     },
     "execution_count": 8,
     "metadata": {},
     "output_type": "execute_result"
    }
   ],
   "source": [
    "#See what tables currently exist in your database.\n",
    "a=sql.read_sql('''\n",
    "SELECT name FROM sqlite_master WHERE type = \"table\";\n",
    "''', con=conn)\n",
    "a"
   ]
  },
  {
   "cell_type": "code",
   "execution_count": 12,
   "metadata": {
    "collapsed": false
   },
   "outputs": [
    {
     "data": {
      "text/html": [
       "<div>\n",
       "<table border=\"1\" class=\"dataframe\">\n",
       "  <thead>\n",
       "    <tr style=\"text-align: right;\">\n",
       "      <th></th>\n",
       "      <th>num_of_rows</th>\n",
       "      <th>distinct_customers</th>\n",
       "      <th>num_mailing</th>\n",
       "      <th>mailing_probability</th>\n",
       "    </tr>\n",
       "  </thead>\n",
       "  <tbody>\n",
       "    <tr>\n",
       "      <th>0</th>\n",
       "      <td>10000</td>\n",
       "      <td>10000</td>\n",
       "      <td>2486</td>\n",
       "      <td>0.2486</td>\n",
       "    </tr>\n",
       "  </tbody>\n",
       "</table>\n",
       "</div>"
      ],
      "text/plain": [
       "   num_of_rows  distinct_customers  num_mailing  mailing_probability\n",
       "0        10000               10000         2486               0.2486"
      ]
     },
     "execution_count": 12,
     "metadata": {},
     "output_type": "execute_result"
    }
   ],
   "source": [
    "#Examples of count, sum and average functions\n",
    "a=sql.read_sql('''\n",
    "select  \n",
    "    count(*)  as num_of_rows,\n",
    "    count(distinct(customerid))  as distinct_customers,\n",
    "    sum(mailinglist) as num_mailing,\n",
    "    avg(mailinglist) as mailing_probability\n",
    "from \n",
    "    users ;\n",
    "''', con=conn)\n",
    "a"
   ]
  },
  {
   "cell_type": "markdown",
   "metadata": {},
   "source": [
    "How many distinct users (parentid) invited a customer?"
   ]
  },
  {
   "cell_type": "code",
   "execution_count": 13,
   "metadata": {
    "collapsed": false
   },
   "outputs": [
    {
     "data": {
      "text/html": [
       "<div>\n",
       "<table border=\"1\" class=\"dataframe\">\n",
       "  <thead>\n",
       "    <tr style=\"text-align: right;\">\n",
       "      <th></th>\n",
       "      <th>distinct_customers</th>\n",
       "    </tr>\n",
       "  </thead>\n",
       "  <tbody>\n",
       "    <tr>\n",
       "      <th>0</th>\n",
       "      <td>2360</td>\n",
       "    </tr>\n",
       "  </tbody>\n",
       "</table>\n",
       "</div>"
      ],
      "text/plain": [
       "   distinct_customers\n",
       "0                2360"
      ]
     },
     "execution_count": 13,
     "metadata": {},
     "output_type": "execute_result"
    }
   ],
   "source": [
    "#Examples of count, sum and average functions\n",
    "a=sql.read_sql('''\n",
    "select  \n",
    "    count(distinct(parentid))  as distinct_customers\n",
    "from \n",
    "    users ;\n",
    "''', con=conn)\n",
    "a"
   ]
  },
  {
   "cell_type": "markdown",
   "metadata": {},
   "source": [
    "### Min, Max"
   ]
  },
  {
   "cell_type": "code",
   "execution_count": 14,
   "metadata": {
    "collapsed": false
   },
   "outputs": [
    {
     "data": {
      "text/html": [
       "<div>\n",
       "<table border=\"1\" class=\"dataframe\">\n",
       "  <thead>\n",
       "    <tr style=\"text-align: right;\">\n",
       "      <th></th>\n",
       "      <th>start_date</th>\n",
       "      <th>end_date</th>\n",
       "    </tr>\n",
       "  </thead>\n",
       "  <tbody>\n",
       "    <tr>\n",
       "      <th>0</th>\n",
       "      <td>2012-05-31</td>\n",
       "      <td>2014-03-19</td>\n",
       "    </tr>\n",
       "  </tbody>\n",
       "</table>\n",
       "</div>"
      ],
      "text/plain": [
       "   start_date    end_date\n",
       "0  2012-05-31  2014-03-19"
      ]
     },
     "execution_count": 14,
     "metadata": {},
     "output_type": "execute_result"
    }
   ],
   "source": [
    "#use min, max and date to compute date range.\n",
    "#Date functionality is very useful.\n",
    "a=sql.read_sql('''\n",
    "select  \n",
    "    date(min(datecreated), 'unixepoch') as start_date, \n",
    "    date(max(datecreated), 'unixepoch') as end_date\n",
    "from \n",
    "    users ;\n",
    "''', con=conn)\n",
    "a"
   ]
  },
  {
   "cell_type": "markdown",
   "metadata": {},
   "source": [
    "### Case"
   ]
  },
  {
   "cell_type": "code",
   "execution_count": 16,
   "metadata": {
    "collapsed": false
   },
   "outputs": [
    {
     "data": {
      "text/html": [
       "<div>\n",
       "<table border=\"1\" class=\"dataframe\">\n",
       "  <thead>\n",
       "    <tr style=\"text-align: right;\">\n",
       "      <th></th>\n",
       "      <th>mailing_true</th>\n",
       "      <th>mailing_false</th>\n",
       "      <th>mailing_other</th>\n",
       "    </tr>\n",
       "  </thead>\n",
       "  <tbody>\n",
       "    <tr>\n",
       "      <th>0</th>\n",
       "      <td>2486</td>\n",
       "      <td>7514</td>\n",
       "      <td>0</td>\n",
       "    </tr>\n",
       "  </tbody>\n",
       "</table>\n",
       "</div>"
      ],
      "text/plain": [
       "   mailing_true  mailing_false  mailing_other\n",
       "0          2486           7514              0"
      ]
     },
     "execution_count": 16,
     "metadata": {},
     "output_type": "execute_result"
    }
   ],
   "source": [
    "#Example of using case \n",
    "a=sql.read_sql('''\n",
    "select  \n",
    "    sum(case when mailinglist = 1 then 1 else 0 end) as mailing_true,\n",
    "    sum(case when mailinglist = 0 then 1 else 0 end) as mailing_false,\n",
    "    sum(case when mailinglist not in (0, 1) then 1 else 0 end) as mailing_other\n",
    "from \n",
    "    users ;\n",
    "''', con=conn)\n",
    "a"
   ]
  },
  {
   "cell_type": "markdown",
   "metadata": {},
   "source": [
    "Use case to measure how many customers were invited by someone"
   ]
  },
  {
   "cell_type": "code",
   "execution_count": 26,
   "metadata": {
    "collapsed": false
   },
   "outputs": [
    {
     "data": {
      "text/html": [
       "<div>\n",
       "<table border=\"1\" class=\"dataframe\">\n",
       "  <thead>\n",
       "    <tr style=\"text-align: right;\">\n",
       "      <th></th>\n",
       "      <th>invited</th>\n",
       "    </tr>\n",
       "  </thead>\n",
       "  <tbody>\n",
       "    <tr>\n",
       "      <th>0</th>\n",
       "      <td>5334</td>\n",
       "    </tr>\n",
       "  </tbody>\n",
       "</table>\n",
       "</div>"
      ],
      "text/plain": [
       "   invited\n",
       "0     5334"
      ]
     },
     "execution_count": 26,
     "metadata": {},
     "output_type": "execute_result"
    }
   ],
   "source": [
    "#Example of using case \n",
    "a=sql.read_sql('''\n",
    "select  \n",
    "    sum(case when parentid > 0 then 1 else 0 end) as invited\n",
    "from \n",
    "    users ;\n",
    "''', con=conn)\n",
    "a"
   ]
  },
  {
   "cell_type": "markdown",
   "metadata": {},
   "source": [
    "### Group By"
   ]
  },
  {
   "cell_type": "code",
   "execution_count": 19,
   "metadata": {
    "collapsed": false
   },
   "outputs": [
    {
     "data": {
      "text/plain": [
       "<matplotlib.axes._subplots.AxesSubplot at 0x10a1be9d0>"
      ]
     },
     "execution_count": 19,
     "metadata": {},
     "output_type": "execute_result"
    },
    {
     "data": {
      "image/png": "[encoded data removed]",
      "text/plain": [
       "<matplotlib.figure.Figure at 0x109c68710>"
      ]
     },
     "metadata": {},
     "output_type": "display_data"
    }
   ],
   "source": [
    "#Show signups per day\n",
    "a=sql.read_sql('''\n",
    "select \n",
    "    date(datecreated, 'unixepoch') as day_created, \n",
    "    count(*) as new_users \n",
    "from \n",
    "    users \n",
    "group by 1\n",
    "''', con=conn)\n",
    "a.plot()"
   ]
  },
  {
   "cell_type": "markdown",
   "metadata": {},
   "source": [
    "How many users came through each source?"
   ]
  },
  {
   "cell_type": "code",
   "execution_count": 20,
   "metadata": {
    "collapsed": false
   },
   "outputs": [
    {
     "data": {
      "text/html": [
       "<div>\n",
       "<table border=\"1\" class=\"dataframe\">\n",
       "  <thead>\n",
       "    <tr style=\"text-align: right;\">\n",
       "      <th></th>\n",
       "      <th>source</th>\n",
       "      <th>new_users</th>\n",
       "    </tr>\n",
       "  </thead>\n",
       "  <tbody>\n",
       "    <tr>\n",
       "      <th>0</th>\n",
       "      <td>ORG_INVITE</td>\n",
       "      <td>3535</td>\n",
       "    </tr>\n",
       "    <tr>\n",
       "      <th>1</th>\n",
       "      <td>GUEST_INVITE</td>\n",
       "      <td>1799</td>\n",
       "    </tr>\n",
       "    <tr>\n",
       "      <th>2</th>\n",
       "      <td>PERSONAL_PROJECTS</td>\n",
       "      <td>1790</td>\n",
       "    </tr>\n",
       "    <tr>\n",
       "      <th>3</th>\n",
       "      <td>SIGNUP</td>\n",
       "      <td>1735</td>\n",
       "    </tr>\n",
       "    <tr>\n",
       "      <th>4</th>\n",
       "      <td>SIGNUP_GOOGLE_AUTH</td>\n",
       "      <td>1141</td>\n",
       "    </tr>\n",
       "  </tbody>\n",
       "</table>\n",
       "</div>"
      ],
      "text/plain": [
       "                 source  new_users\n",
       "0   ORG_INVITE                3535\n",
       "1   GUEST_INVITE              1799\n",
       "2   PERSONAL_PROJECTS         1790\n",
       "3   SIGNUP                    1735\n",
       "4   SIGNUP_GOOGLE_AUTH        1141"
      ]
     },
     "execution_count": 20,
     "metadata": {},
     "output_type": "execute_result"
    }
   ],
   "source": [
    "#What are the most popular sources that users came from?\n",
    "a=sql.read_sql('''\n",
    "select \n",
    "    source, \n",
    "    count(*) as new_users \n",
    "from \n",
    "    users \n",
    "group by 1 \n",
    "order by 2 desc;\n",
    "''', con=conn)\n",
    "a"
   ]
  },
  {
   "cell_type": "markdown",
   "metadata": {},
   "source": [
    "### Modulo"
   ]
  },
  {
   "cell_type": "code",
   "execution_count": 21,
   "metadata": {
    "collapsed": false
   },
   "outputs": [
    {
     "data": {
      "text/html": [
       "<div>\n",
       "<table border=\"1\" class=\"dataframe\">\n",
       "  <thead>\n",
       "    <tr style=\"text-align: right;\">\n",
       "      <th></th>\n",
       "      <th>customerid % 4</th>\n",
       "      <th>new_users</th>\n",
       "    </tr>\n",
       "  </thead>\n",
       "  <tbody>\n",
       "    <tr>\n",
       "      <th>0</th>\n",
       "      <td>0</td>\n",
       "      <td>2493</td>\n",
       "    </tr>\n",
       "    <tr>\n",
       "      <th>1</th>\n",
       "      <td>1</td>\n",
       "      <td>2524</td>\n",
       "    </tr>\n",
       "    <tr>\n",
       "      <th>2</th>\n",
       "      <td>2</td>\n",
       "      <td>2464</td>\n",
       "    </tr>\n",
       "    <tr>\n",
       "      <th>3</th>\n",
       "      <td>3</td>\n",
       "      <td>2519</td>\n",
       "    </tr>\n",
       "  </tbody>\n",
       "</table>\n",
       "</div>"
      ],
      "text/plain": [
       "   customerid % 4  new_users\n",
       "0               0       2493\n",
       "1               1       2524\n",
       "2               2       2464\n",
       "3               3       2519"
      ]
     },
     "execution_count": 21,
     "metadata": {},
     "output_type": "execute_result"
    }
   ],
   "source": [
    "#Bucketing users.  Good for experiments!\n",
    "a=sql.read_sql('''\n",
    "select \n",
    "    customerid % 4, \n",
    "    count(*) as new_users \n",
    "from \n",
    "    users \n",
    "group by 1\n",
    "''', con=conn)\n",
    "a"
   ]
  },
  {
   "cell_type": "markdown",
   "metadata": {},
   "source": [
    "# Growth Analytics with Master Fact "
   ]
  },
  {
   "cell_type": "code",
   "execution_count": 22,
   "metadata": {
    "collapsed": false
   },
   "outputs": [
    {
     "data": {
      "text/html": [
       "<div>\n",
       "<table border=\"1\" class=\"dataframe\">\n",
       "  <thead>\n",
       "    <tr style=\"text-align: right;\">\n",
       "      <th></th>\n",
       "      <th>customerid</th>\n",
       "      <th>timestamp</th>\n",
       "      <th>eventtype</th>\n",
       "    </tr>\n",
       "  </thead>\n",
       "  <tbody>\n",
       "    <tr>\n",
       "      <th>0</th>\n",
       "      <td>10012</td>\n",
       "      <td>1338452406</td>\n",
       "      <td>login</td>\n",
       "    </tr>\n",
       "    <tr>\n",
       "      <th>1</th>\n",
       "      <td>3428</td>\n",
       "      <td>1338479256</td>\n",
       "      <td>login</td>\n",
       "    </tr>\n",
       "    <tr>\n",
       "      <th>2</th>\n",
       "      <td>9899</td>\n",
       "      <td>1338484777</td>\n",
       "      <td>login</td>\n",
       "    </tr>\n",
       "    <tr>\n",
       "      <th>3</th>\n",
       "      <td>1693</td>\n",
       "      <td>1338501513</td>\n",
       "      <td>login</td>\n",
       "    </tr>\n",
       "    <tr>\n",
       "      <th>4</th>\n",
       "      <td>6102</td>\n",
       "      <td>1338509850</td>\n",
       "      <td>login</td>\n",
       "    </tr>\n",
       "  </tbody>\n",
       "</table>\n",
       "</div>"
      ],
      "text/plain": [
       "   customerid   timestamp eventtype\n",
       "0       10012  1338452406     login\n",
       "1        3428  1338479256     login\n",
       "2        9899  1338484777     login\n",
       "3        1693  1338501513     login\n",
       "4        6102  1338509850     login"
      ]
     },
     "execution_count": 22,
     "metadata": {},
     "output_type": "execute_result"
    }
   ],
   "source": [
    "#Get data about these users subsequent activity\n",
    "activity = pd.read_csv('activity.csv', low_memory=False)\n",
    "activity.head()"
   ]
  },
  {
   "cell_type": "code",
   "execution_count": 23,
   "metadata": {
    "collapsed": false
   },
   "outputs": [],
   "source": [
    "#Convert activity to sqlite\n",
    "activity.to_sql('master_fact',\n",
    "            con=conn,\n",
    "            if_exists='replace',\n",
    "            index=False)"
   ]
  },
  {
   "cell_type": "markdown",
   "metadata": {},
   "source": [
    "### Subquery"
   ]
  },
  {
   "cell_type": "code",
   "execution_count": 24,
   "metadata": {
    "collapsed": false
   },
   "outputs": [
    {
     "data": {
      "text/html": [
       "<div>\n",
       "<table border=\"1\" class=\"dataframe\">\n",
       "  <thead>\n",
       "    <tr style=\"text-align: right;\">\n",
       "      <th></th>\n",
       "      <th>visits</th>\n",
       "      <th>customers</th>\n",
       "    </tr>\n",
       "  </thead>\n",
       "  <tbody>\n",
       "    <tr>\n",
       "      <th>0</th>\n",
       "      <td>1</td>\n",
       "      <td>5178</td>\n",
       "    </tr>\n",
       "    <tr>\n",
       "      <th>1</th>\n",
       "      <td>2</td>\n",
       "      <td>279</td>\n",
       "    </tr>\n",
       "    <tr>\n",
       "      <th>2</th>\n",
       "      <td>3</td>\n",
       "      <td>193</td>\n",
       "    </tr>\n",
       "    <tr>\n",
       "      <th>3</th>\n",
       "      <td>4</td>\n",
       "      <td>155</td>\n",
       "    </tr>\n",
       "    <tr>\n",
       "      <th>4</th>\n",
       "      <td>5</td>\n",
       "      <td>78</td>\n",
       "    </tr>\n",
       "  </tbody>\n",
       "</table>\n",
       "</div>"
      ],
      "text/plain": [
       "   visits  customers\n",
       "0       1       5178\n",
       "1       2        279\n",
       "2       3        193\n",
       "3       4        155\n",
       "4       5         78"
      ]
     },
     "execution_count": 24,
     "metadata": {},
     "output_type": "execute_result"
    }
   ],
   "source": [
    "#Example of a subquery\n",
    "a=sql.read_sql('''\n",
    "select\n",
    "visits,\n",
    "count(distinct(customerid)) as customers\n",
    "from\n",
    "(\n",
    "select\n",
    "    customerid,\n",
    "    count(*) as visits\n",
    "from\n",
    "    master_fact\n",
    "where\n",
    "    eventtype = 'login'\n",
    "group by 1 \n",
    ") q\n",
    "group by 1 \n",
    "order by 2 desc;\n",
    "    ''', con=conn)\n",
    "a.head(5)\n",
    "               "
   ]
  },
  {
   "cell_type": "markdown",
   "metadata": {},
   "source": [
    "### Join Example"
   ]
  },
  {
   "cell_type": "code",
   "execution_count": null,
   "metadata": {
    "collapsed": true
   },
   "outputs": [],
   "source": [
    "Give me the users that were active on '2014-01-01' that were also active on '2014-01-07'."
   ]
  },
  {
   "cell_type": "code",
   "execution_count": null,
   "metadata": {
    "collapsed": false
   },
   "outputs": [],
   "source": [
    "#This query show the percentage of customers per cohort that were active in the second week after they signed up.\n",
    "a=sql.read_sql('''\n",
    "select\n",
    "    count(distinct(b.customerid)) as returning_users\n",
    "from\n",
    "    master_fact a\n",
    "left join\n",
    "    master_fact b\n",
    "on\n",
    "    a.customerid = b.customerid\n",
    "where\n",
    "    substr(date(a.timestamp, 'unixepoch'), 1,10)='2014-01-01' and\n",
    "    substr(date(b.timestamp, 'unixepoch'), 1,10)='2014-01-07'\n",
    "    ''', con=conn)\n",
    "a.head(10)"
   ]
  },
  {
   "cell_type": "markdown",
   "metadata": {},
   "source": [
    "### Measuring a Growth Susceptibility: Retention Rate"
   ]
  },
  {
   "cell_type": "code",
   "execution_count": 28,
   "metadata": {
    "collapsed": false
   },
   "outputs": [
    {
     "data": {
      "text/html": [
       "<div>\n",
       "<table border=\"1\" class=\"dataframe\">\n",
       "  <thead>\n",
       "    <tr style=\"text-align: right;\">\n",
       "      <th></th>\n",
       "      <th>month_created</th>\n",
       "      <th>cast(returning_users as real)/new_users</th>\n",
       "    </tr>\n",
       "  </thead>\n",
       "  <tbody>\n",
       "    <tr>\n",
       "      <th>0</th>\n",
       "      <td>2012-05</td>\n",
       "      <td>0.187500</td>\n",
       "    </tr>\n",
       "    <tr>\n",
       "      <th>1</th>\n",
       "      <td>2012-06</td>\n",
       "      <td>0.114713</td>\n",
       "    </tr>\n",
       "    <tr>\n",
       "      <th>2</th>\n",
       "      <td>2012-07</td>\n",
       "      <td>0.103359</td>\n",
       "    </tr>\n",
       "    <tr>\n",
       "      <th>3</th>\n",
       "      <td>2012-08</td>\n",
       "      <td>0.109589</td>\n",
       "    </tr>\n",
       "    <tr>\n",
       "      <th>4</th>\n",
       "      <td>2012-09</td>\n",
       "      <td>0.085575</td>\n",
       "    </tr>\n",
       "    <tr>\n",
       "      <th>5</th>\n",
       "      <td>2012-10</td>\n",
       "      <td>0.089776</td>\n",
       "    </tr>\n",
       "    <tr>\n",
       "      <th>6</th>\n",
       "      <td>2012-11</td>\n",
       "      <td>0.091133</td>\n",
       "    </tr>\n",
       "    <tr>\n",
       "      <th>7</th>\n",
       "      <td>2012-12</td>\n",
       "      <td>0.101942</td>\n",
       "    </tr>\n",
       "    <tr>\n",
       "      <th>8</th>\n",
       "      <td>2013-01</td>\n",
       "      <td>0.109620</td>\n",
       "    </tr>\n",
       "    <tr>\n",
       "      <th>9</th>\n",
       "      <td>2013-02</td>\n",
       "      <td>0.115479</td>\n",
       "    </tr>\n",
       "  </tbody>\n",
       "</table>\n",
       "</div>"
      ],
      "text/plain": [
       "  month_created  cast(returning_users as real)/new_users\n",
       "0       2012-05                                 0.187500\n",
       "1       2012-06                                 0.114713\n",
       "2       2012-07                                 0.103359\n",
       "3       2012-08                                 0.109589\n",
       "4       2012-09                                 0.085575\n",
       "5       2012-10                                 0.089776\n",
       "6       2012-11                                 0.091133\n",
       "7       2012-12                                 0.101942\n",
       "8       2013-01                                 0.109620\n",
       "9       2013-02                                 0.115479"
      ]
     },
     "execution_count": 28,
     "metadata": {},
     "output_type": "execute_result"
    }
   ],
   "source": [
    "#This query show the percentage of customers per cohort that were active in the second week after they signed up.\n",
    "a=sql.read_sql('''\n",
    "select \n",
    "    a.month_created,\n",
    "    cast(returning_users as real)/new_users\n",
    "from\n",
    "(\n",
    "select\n",
    "    substr(date(datecreated, 'unixepoch'), 1,7) as month_created,\n",
    "    count(distinct(customerid)) as new_users\n",
    "from\n",
    "    users \n",
    "group by 1\n",
    ") a\n",
    "left join\n",
    "(\n",
    "select\n",
    "    substr(date(a.datecreated, 'unixepoch'), 1,7) as month_created,\n",
    "    count(distinct(b.customerid)) as returning_users\n",
    "from\n",
    "    users a\n",
    "left join\n",
    "    master_fact b\n",
    "on\n",
    "    a.customerid = b.customerid\n",
    "where\n",
    "    b.timestamp between a.datecreated + 7*86400 and a.datecreated + 14*86400\n",
    "group by 1\n",
    ") b\n",
    "on a.month_created = b.month_created\n",
    "    ''', con=conn)\n",
    "a.head(10)"
   ]
  },
  {
   "cell_type": "code",
   "execution_count": null,
   "metadata": {
    "collapsed": false
   },
   "outputs": [],
   "source": [
    "#This query looks at the retention rate for a selected cohort.\n",
    "a=sql.read_sql('''\n",
    "select \n",
    "    month as age_in_months,\n",
    "    cast(returning_users as real)/initial_cohort as retention_rate\n",
    "from\n",
    "(select\n",
    "   cast((b.timestamp - a.datecreated)/(86400*30) as int) as month,\n",
    "    count(distinct(b.customerid)) as returning_users\n",
    "from\n",
    "    users a\n",
    "left join\n",
    "    master_fact b\n",
    "on\n",
    "    a.customerid = b.customerid\n",
    "where\n",
    "    substr(date(a.datecreated, 'unixepoch'), 1,7) = '2012-06' and\n",
    "    cast((b.timestamp - a.datecreated)/(86400*30) as int) >= 0\n",
    "group by 1) a,\n",
    "(select\n",
    "    count(distinct(customerid)) as initial_cohort\n",
    "from\n",
    "    users a\n",
    "where\n",
    "    substr(date(a.datecreated, 'unixepoch'), 1,7) = '2012-06' \n",
    ")\n",
    "    ''', con=conn)\n",
    "a.head(5)"
   ]
  },
  {
   "cell_type": "code",
   "execution_count": null,
   "metadata": {
    "collapsed": false
   },
   "outputs": [],
   "source": [
    "#Generalizing the calculation of a retention curve\n",
    "def constructRetentionCurve(month):\n",
    "    string = '''\n",
    "    select \n",
    "        month,\n",
    "        cast(returning_users as real)/initial_cohort as retention_rate\n",
    "    from\n",
    "    (select\n",
    "        cast((b.timestamp - a.datecreated)/(86400*30) as int) as month,\n",
    "        count(distinct(b.customerid)) as returning_users\n",
    "    from\n",
    "        users a\n",
    "    left join\n",
    "        master_fact b\n",
    "    on\n",
    "        a.customerid = b.customerid\n",
    "    where\n",
    "        substr(date(a.datecreated, 'unixepoch'), 1,7) = '%s' and\n",
    "        cast((b.timestamp - a.datecreated)/(86400*30) as int) >= 0\n",
    "    group by 1) a,\n",
    "    (select\n",
    "        count(distinct(customerid)) as initial_cohort\n",
    "    from\n",
    "        users a\n",
    "    where\n",
    "        substr(date(a.datecreated, 'unixepoch'), 1,7) = '%s'  \n",
    "    )\n",
    "    ''' % (month, month)\n",
    "    return string"
   ]
  },
  {
   "cell_type": "code",
   "execution_count": null,
   "metadata": {
    "collapsed": false
   },
   "outputs": [],
   "source": [
    "a=sql.read_sql(constructRetentionCurve('2012-10'), con=conn)\n",
    "b=sql.read_sql(constructRetentionCurve('2012-06'), con=conn)\n",
    "#How do we join the retention curves together?"
   ]
  },
  {
   "cell_type": "code",
   "execution_count": null,
   "metadata": {
    "collapsed": true
   },
   "outputs": [],
   "source": [
    "# A function to simulate linear susceptibility.\n",
    "def linearG(t, b, m):\n",
    "    if t < 0:\n",
    "        return 0\n",
    "    if t == 0:\n",
    "        return 0.75\n",
    "    elif b - m*t  > 0:\n",
    "        return round(b -m*t, 3)\n",
    "    else:\n",
    "        return 0"
   ]
  },
  {
   "cell_type": "code",
   "execution_count": null,
   "metadata": {
    "collapsed": false
   },
   "outputs": [],
   "source": [
    "plt.figure(figsize=(8,5))\n",
    "plt.style.use('seaborn-whitegrid')\n",
    "plt.rc('lines', linewidth=3)\n",
    "plt.plot([item for item in a['month']] ,[item for item in a['retention_rate']]) \n",
    "plt.plot([item for item in b['month']] ,[item for item in b['retention_rate']]) \n",
    "#Compare these measurements to a functional form.\n",
    "#plt.plot([item for item in range(30)] ,[linearG(item, 0.15, 0.002) for item in range(30)]) \n",
    "plt.xlabel('Age (ty - tx)')\n",
    "plt.ylabel('P(y)')\n",
    "plt.ylim((0,1))\n",
    "plt.show()"
   ]
  },
  {
   "cell_type": "markdown",
   "metadata": {},
   "source": [
    "### Use susceptibility to do projections"
   ]
  },
  {
   "cell_type": "code",
   "execution_count": null,
   "metadata": {
    "collapsed": false
   },
   "outputs": [],
   "source": [
    "def computeYLin(cohorts, daysOut, b, m):\n",
    "    currentDay = len(cohorts)\n",
    "    Y = []\n",
    "    #First Calculate DAU while cohorts are being acquired\n",
    "    for t in range(currentDay):\n",
    "        actives=[]\n",
    "        for i in range(t):\n",
    "            actives.append(round(cohorts[t-i]*linearG(i, b, m), 3))\n",
    "        Y.append(sum(actives))\n",
    "    #Now calculate more DAU as we project out after acquiring cohorts\n",
    "    for t in range(daysOut):\n",
    "        actives=[]\n",
    "        for i in range(currentDay):\n",
    "            actives.append(round(cohorts[currentDay-i-1]*linearG(t+i-1, b, m), 3))\n",
    "        Y.append(sum(actives))\n",
    "    return Y "
   ]
  },
  {
   "cell_type": "code",
   "execution_count": null,
   "metadata": {
    "collapsed": false
   },
   "outputs": [],
   "source": [
    "#Show signups per day\n",
    "new_users=sql.read_sql('''\n",
    "select \n",
    "    substr(date(datecreated, 'unixepoch'), 1,7) as month_created, \n",
    "    count(*) as new_users \n",
    "from \n",
    "    users \n",
    "group by 1\n",
    "''', con=conn)\n",
    "plt.figure(figsize=(6,4))\n",
    "plt.style.use('seaborn-whitegrid')\n",
    "plt.xlabel('time (months)')\n",
    "plt.ylabel('New Users')\n",
    "plt.plot(new_users['new_users'])"
   ]
  },
  {
   "cell_type": "code",
   "execution_count": null,
   "metadata": {
    "collapsed": false
   },
   "outputs": [],
   "source": [
    "#Show active users per day\n",
    "dau=sql.read_sql('''\n",
    "select \n",
    "    substr(date(timestamp, 'unixepoch'), 1,7) as month_active, \n",
    "    count(distinct(customerid)) as active_users \n",
    "from \n",
    "    master_fact\n",
    "group by 1\n",
    "''', con=conn)\n",
    "plt.figure(figsize=(6,4))\n",
    "plt.style.use('seaborn-whitegrid')\n",
    "plt.xlabel('time (months)')\n",
    "plt.ylabel('DAU')\n",
    "plt.plot(dau['active_users'])\n"
   ]
  },
  {
   "cell_type": "code",
   "execution_count": null,
   "metadata": {
    "collapsed": false
   },
   "outputs": [],
   "source": [
    "cohorts = [item for item in new_users['new_users']]\n",
    "results=pd.DataFrame(computeYLin(cohorts, 1, 0.15, 0.002))\n",
    "#Project out further\n",
    "#results=pd.DataFrame(computeYLin(cohorts, 1, 0.15, 0.002))\n",
    "plt.figure(figsize=(6,4))\n",
    "plt.style.use('seaborn-whitegrid')\n",
    "plt.xlabel('time (months)')\n",
    "plt.ylabel('DAU')\n",
    "plt.plot(dau['active_users'])\n",
    "plt.plot(results)\n",
    "#What if we half the rate of decay and increase the initial intercept?\n",
    "#results2=pd.DataFrame(computeYLin(cohorts, 1, 0.2, 0.001))\n",
    "#plt.plot(results2)\n",
    "\n",
    "plt.show()"
   ]
  },
  {
   "cell_type": "markdown",
   "metadata": {},
   "source": [
    "# Building a Churn Prediction Model"
   ]
  },
  {
   "cell_type": "markdown",
   "metadata": {},
   "source": [
    "#### Write a query that uses the number of logins a customer performs in the first 30 days  (as well as other metadata such as source, mailinglist) to determine whether a customer will be active in  their fourth month (days 90 through 120)."
   ]
  },
  {
   "cell_type": "code",
   "execution_count": 29,
   "metadata": {
    "collapsed": false
   },
   "outputs": [
    {
     "data": {
      "text/html": [
       "<div>\n",
       "<table border=\"1\" class=\"dataframe\">\n",
       "  <thead>\n",
       "    <tr style=\"text-align: right;\">\n",
       "      <th></th>\n",
       "      <th>customerid</th>\n",
       "      <th>source</th>\n",
       "      <th>mailinglist</th>\n",
       "      <th>testgroup</th>\n",
       "      <th>logins</th>\n",
       "      <th>retained</th>\n",
       "    </tr>\n",
       "  </thead>\n",
       "  <tbody>\n",
       "    <tr>\n",
       "      <th>0</th>\n",
       "      <td>2</td>\n",
       "      <td>ORG_INVITE</td>\n",
       "      <td>0</td>\n",
       "      <td>0</td>\n",
       "      <td>3</td>\n",
       "      <td>1</td>\n",
       "    </tr>\n",
       "    <tr>\n",
       "      <th>1</th>\n",
       "      <td>3</td>\n",
       "      <td>ORG_INVITE</td>\n",
       "      <td>0</td>\n",
       "      <td>0</td>\n",
       "      <td>1</td>\n",
       "      <td>0</td>\n",
       "    </tr>\n",
       "    <tr>\n",
       "      <th>2</th>\n",
       "      <td>4</td>\n",
       "      <td>GUEST_INVITE</td>\n",
       "      <td>0</td>\n",
       "      <td>0</td>\n",
       "      <td>1</td>\n",
       "      <td>0</td>\n",
       "    </tr>\n",
       "    <tr>\n",
       "      <th>3</th>\n",
       "      <td>5</td>\n",
       "      <td>GUEST_INVITE</td>\n",
       "      <td>0</td>\n",
       "      <td>0</td>\n",
       "      <td>1</td>\n",
       "      <td>0</td>\n",
       "    </tr>\n",
       "    <tr>\n",
       "      <th>4</th>\n",
       "      <td>6</td>\n",
       "      <td>GUEST_INVITE</td>\n",
       "      <td>0</td>\n",
       "      <td>0</td>\n",
       "      <td>1</td>\n",
       "      <td>0</td>\n",
       "    </tr>\n",
       "  </tbody>\n",
       "</table>\n",
       "</div>"
      ],
      "text/plain": [
       "   customerid                source  mailinglist  testgroup  logins  retained\n",
       "0           2   ORG_INVITE                     0          0       3         1\n",
       "1           3   ORG_INVITE                     0          0       1         0\n",
       "2           4   GUEST_INVITE                   0          0       1         0\n",
       "3           5   GUEST_INVITE                   0          0       1         0\n",
       "4           6   GUEST_INVITE                   0          0       1         0"
      ]
     },
     "execution_count": 29,
     "metadata": {},
     "output_type": "execute_result"
    }
   ],
   "source": [
    "#A solution....\n",
    "a=sql.read_sql('''\n",
    "\n",
    "select\n",
    "    x.customerid,\n",
    "    source,\n",
    "    mailinglist,\n",
    "    testgroup,\n",
    "    logins,\n",
    "    case when return_visits > 0 then 1 else 0 end  as retained\n",
    "from\n",
    "(select\n",
    "    a.customerid,\n",
    "    source,\n",
    "    mailinglist,\n",
    "    testgroup,\n",
    "    count(*) as logins\n",
    "from\n",
    "    users a\n",
    "left join\n",
    "    master_fact b\n",
    "on\n",
    "    a.customerid = b.customerid\n",
    "where\n",
    "    (b.timestamp - a.datecreated) < (86400*30)  \n",
    "group by 1) x\n",
    "left join\n",
    "(select\n",
    "    a.customerid,\n",
    "    count(*) as return_visits\n",
    "from\n",
    "    users a\n",
    "left join\n",
    "    master_fact b\n",
    "on\n",
    "    a.customerid = b.customerid\n",
    "where\n",
    "    (b.timestamp - a.datecreated) between  (86400*90) and (86400*120)  \n",
    "group by 1) y\n",
    "on\n",
    "    x.customerid = y.customerid\n",
    "\n",
    "\n",
    "    ''', con=conn)\n",
    "a.head(5)"
   ]
  },
  {
   "cell_type": "code",
   "execution_count": 30,
   "metadata": {
    "collapsed": false
   },
   "outputs": [
    {
     "data": {
      "text/html": [
       "<div>\n",
       "<table border=\"1\" class=\"dataframe\">\n",
       "  <thead>\n",
       "    <tr style=\"text-align: right;\">\n",
       "      <th></th>\n",
       "      <th>customerid</th>\n",
       "      <th>mailinglist</th>\n",
       "      <th>testgroup</th>\n",
       "      <th>logins</th>\n",
       "      <th>retained</th>\n",
       "      <th>GUEST_INVITE</th>\n",
       "      <th>ORG_INVITE</th>\n",
       "      <th>PERSONAL_PROJECTS</th>\n",
       "      <th>SIGNUP</th>\n",
       "      <th>SIGNUP_GOOGLE_AUTH</th>\n",
       "    </tr>\n",
       "  </thead>\n",
       "  <tbody>\n",
       "    <tr>\n",
       "      <th>0</th>\n",
       "      <td>2</td>\n",
       "      <td>0</td>\n",
       "      <td>0</td>\n",
       "      <td>3</td>\n",
       "      <td>1</td>\n",
       "      <td>0</td>\n",
       "      <td>1</td>\n",
       "      <td>0</td>\n",
       "      <td>0</td>\n",
       "      <td>0</td>\n",
       "    </tr>\n",
       "    <tr>\n",
       "      <th>1</th>\n",
       "      <td>3</td>\n",
       "      <td>0</td>\n",
       "      <td>0</td>\n",
       "      <td>1</td>\n",
       "      <td>0</td>\n",
       "      <td>0</td>\n",
       "      <td>1</td>\n",
       "      <td>0</td>\n",
       "      <td>0</td>\n",
       "      <td>0</td>\n",
       "    </tr>\n",
       "    <tr>\n",
       "      <th>2</th>\n",
       "      <td>4</td>\n",
       "      <td>0</td>\n",
       "      <td>0</td>\n",
       "      <td>1</td>\n",
       "      <td>0</td>\n",
       "      <td>1</td>\n",
       "      <td>0</td>\n",
       "      <td>0</td>\n",
       "      <td>0</td>\n",
       "      <td>0</td>\n",
       "    </tr>\n",
       "    <tr>\n",
       "      <th>3</th>\n",
       "      <td>5</td>\n",
       "      <td>0</td>\n",
       "      <td>0</td>\n",
       "      <td>1</td>\n",
       "      <td>0</td>\n",
       "      <td>1</td>\n",
       "      <td>0</td>\n",
       "      <td>0</td>\n",
       "      <td>0</td>\n",
       "      <td>0</td>\n",
       "    </tr>\n",
       "    <tr>\n",
       "      <th>4</th>\n",
       "      <td>6</td>\n",
       "      <td>0</td>\n",
       "      <td>0</td>\n",
       "      <td>1</td>\n",
       "      <td>0</td>\n",
       "      <td>1</td>\n",
       "      <td>0</td>\n",
       "      <td>0</td>\n",
       "      <td>0</td>\n",
       "      <td>0</td>\n",
       "    </tr>\n",
       "  </tbody>\n",
       "</table>\n",
       "</div>"
      ],
      "text/plain": [
       "   customerid  mailinglist  testgroup  logins  retained   GUEST_INVITE         \\\n",
       "0           2            0          0       3         1                     0   \n",
       "1           3            0          0       1         0                     0   \n",
       "2           4            0          0       1         0                     1   \n",
       "3           5            0          0       1         0                     1   \n",
       "4           6            0          0       1         0                     1   \n",
       "\n",
       "    ORG_INVITE            PERSONAL_PROJECTS     SIGNUP               \\\n",
       "0                     1                     0                     0   \n",
       "1                     1                     0                     0   \n",
       "2                     0                     0                     0   \n",
       "3                     0                     0                     0   \n",
       "4                     0                     0                     0   \n",
       "\n",
       "    SIGNUP_GOOGLE_AUTH   \n",
       "0                     0  \n",
       "1                     0  \n",
       "2                     0  \n",
       "3                     0  \n",
       "4                     0  "
      ]
     },
     "execution_count": 30,
     "metadata": {},
     "output_type": "execute_result"
    }
   ],
   "source": [
    "creation_source = pd.get_dummies(a['source'])\n",
    "modelData = pd.concat([a, creation_source], axis=1)    \n",
    "del modelData['source']\n",
    "modelData.head()"
   ]
  },
  {
   "cell_type": "code",
   "execution_count": 31,
   "metadata": {
    "collapsed": false
   },
   "outputs": [
    {
     "data": {
      "text/plain": [
       "customerid              0.000903\n",
       "mailinglist             0.005215\n",
       "testgroup              -0.000956\n",
       "logins                  0.499281\n",
       "retained                1.000000\n",
       " GUEST_INVITE           0.050877\n",
       " ORG_INVITE            -0.014247\n",
       " PERSONAL_PROJECTS      0.026236\n",
       " SIGNUP                -0.041771\n",
       " SIGNUP_GOOGLE_AUTH    -0.008303\n",
       "Name: retained, dtype: float64"
      ]
     },
     "execution_count": 31,
     "metadata": {},
     "output_type": "execute_result"
    }
   ],
   "source": [
    "modelData.corr()['retained']"
   ]
  },
  {
   "cell_type": "code",
   "execution_count": 32,
   "metadata": {
    "collapsed": false
   },
   "outputs": [],
   "source": [
    "feature_cols = ['mailinglist', 'testgroup', 'logins', ' GUEST_INVITE       ',' ORG_INVITE         ', ' PERSONAL_PROJECTS  ' ]\n",
    "X=modelData[feature_cols]\n",
    "y=modelData.retained"
   ]
  },
  {
   "cell_type": "code",
   "execution_count": 33,
   "metadata": {
    "collapsed": false
   },
   "outputs": [
    {
     "name": "stdout",
     "output_type": "stream",
     "text": [
      "mailinglist 0.01\n",
      "testgroup 0.01\n",
      "logins 0.95\n",
      " GUEST_INVITE        0.01\n",
      " ORG_INVITE          0.01\n",
      " PERSONAL_PROJECTS   0.01\n"
     ]
    }
   ],
   "source": [
    "from sklearn.tree import DecisionTreeClassifier\n",
    "tree=DecisionTreeClassifier(random_state=1)\n",
    "# Train model\n",
    "tree.fit(X, y)\n",
    "important = tree.feature_importances_\n",
    "for i in range(len(feature_cols)):\n",
    "    print feature_cols[i], round(important[i], 2)\n"
   ]
  },
  {
   "cell_type": "code",
   "execution_count": 34,
   "metadata": {
    "collapsed": false
   },
   "outputs": [
    {
     "data": {
      "text/plain": [
       "LogisticRegression(C=1000000000.0, class_weight=None, dual=False,\n",
       "          fit_intercept=True, intercept_scaling=1, max_iter=100,\n",
       "          multi_class='ovr', n_jobs=1, penalty='l2', random_state=None,\n",
       "          solver='liblinear', tol=0.0001, verbose=0, warm_start=False)"
      ]
     },
     "execution_count": 34,
     "metadata": {},
     "output_type": "execute_result"
    }
   ],
   "source": [
    "from sklearn.linear_model import LogisticRegression\n",
    "logreg = LogisticRegression(C=1e9)\n",
    "logreg.fit(X, y)"
   ]
  },
  {
   "cell_type": "code",
   "execution_count": 35,
   "metadata": {
    "collapsed": false
   },
   "outputs": [
    {
     "name": "stdout",
     "output_type": "stream",
     "text": [
      "Decision Tree :  0.135583991288\n",
      "Logistic Regression :  0.142934930574\n"
     ]
    }
   ],
   "source": [
    "from sklearn import metrics\n",
    "\n",
    "print \"Decision Tree : \" , metrics.mean_squared_error(y, tree.predict(X))\n",
    "print \"Logistic Regression : \" , metrics.mean_squared_error(y, logreg.predict(X))"
   ]
  },
  {
   "cell_type": "code",
   "execution_count": null,
   "metadata": {
    "collapsed": true
   },
   "outputs": [],
   "source": []
  }
 ],
 "metadata": {
  "kernelspec": {
   "display_name": "Python 2",
   "language": "python",
   "name": "python2"
  },
  "language_info": {
   "codemirror_mode": {
    "name": "ipython",
    "version": 2
   },
   "file_extension": ".py",
   "mimetype": "text/x-python",
   "name": "python",
   "nbconvert_exporter": "python",
   "pygments_lexer": "ipython2",
   "version": "2.7.11"
  }
 },
 "nbformat": 4,
 "nbformat_minor": 0
}
